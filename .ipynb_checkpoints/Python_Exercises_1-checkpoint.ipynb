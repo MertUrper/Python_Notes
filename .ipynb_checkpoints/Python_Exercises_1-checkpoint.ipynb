{
 "cells": [
  {
   "cell_type": "markdown",
   "id": "f2b09b72-8f25-4d57-a3bd-058b9c72bb2b",
   "metadata": {},
   "source": [
    "# 1"
   ]
  },
  {
   "cell_type": "code",
   "execution_count": 1,
   "id": "787fe606-94c7-42d9-979a-d1582550c0f8",
   "metadata": {},
   "outputs": [],
   "source": [
    "# Bir cümleyi kabul eden ve büyük harf ve küçük harf sayısını hesaplayan bir program yazın."
   ]
  },
  {
   "cell_type": "code",
   "execution_count": 7,
   "id": "0c8e79fc-5073-4a17-a3c3-5f066dda52e3",
   "metadata": {},
   "outputs": [
    {
     "name": "stdin",
     "output_type": "stream",
     "text": [
      " mert ürper Ali Veli Can\n"
     ]
    },
    {
     "name": "stdout",
     "output_type": "stream",
     "text": [
      "{'UPPER CASE': 3, 'LOWER CASE': 16}\n"
     ]
    }
   ],
   "source": [
    "s = input()\n",
    "d = {\"UPPER CASE\":0, \"LOWER CASE\":0}\n",
    "for c in s:\n",
    "    if c.isupper():\n",
    "        d[\"UPPER CASE\"]+=1\n",
    "    elif c.islower():\n",
    "        d[\"LOWER CASE\"]+=1\n",
    "    \n",
    "print(d)"
   ]
  },
  {
   "cell_type": "code",
   "execution_count": null,
   "id": "77779a26-78e7-47ed-8e77-0d79851d3d1f",
   "metadata": {},
   "outputs": [],
   "source": []
  },
  {
   "cell_type": "code",
   "execution_count": 4,
   "id": "89313e1a-0aec-4800-8e3f-a5afcdd55993",
   "metadata": {},
   "outputs": [
    {
     "name": "stdin",
     "output_type": "stream",
     "text": [
      " mert ürper Ali Veli Can\n"
     ]
    },
    {
     "name": "stdout",
     "output_type": "stream",
     "text": [
      "UPPER CASE 3\n",
      "LOWER CASE 15\n"
     ]
    }
   ],
   "source": [
    "word = input()\n",
    "upper,lower = 0,0\n",
    "\n",
    "for i in word:\n",
    "    if 'a'<=i and i<='z' :\n",
    "        lower+=1\n",
    "    if 'A'<=i and i<='Z':\n",
    "        upper+=1\n",
    "\n",
    "print(\"UPPER CASE {0}\\nLOWER CASE {1}\".format(upper,lower))"
   ]
  },
  {
   "cell_type": "code",
   "execution_count": null,
   "id": "f8862597-ef34-4c51-b499-003b3e1dccc6",
   "metadata": {},
   "outputs": [],
   "source": []
  },
  {
   "cell_type": "code",
   "execution_count": 5,
   "id": "867dfd87-a3ee-41cb-8d47-f5ca726a799d",
   "metadata": {},
   "outputs": [
    {
     "name": "stdin",
     "output_type": "stream",
     "text": [
      " mert ürper Ali Veli Can\n"
     ]
    },
    {
     "name": "stdout",
     "output_type": "stream",
     "text": [
      "UPPER CASE 3\n",
      "LOWER CASE 16\n"
     ]
    }
   ],
   "source": [
    "word = input()\n",
    "upper,lower = 0,0\n",
    "\n",
    "for i in word:\n",
    "        lower+=i.islower()\n",
    "        upper+=i.isupper()\n",
    "\n",
    "print(\"UPPER CASE {0}\\nLOWER CASE {1}\".format(upper,lower))"
   ]
  },
  {
   "cell_type": "code",
   "execution_count": null,
   "id": "6fdd2d8c-ca02-4f4d-9053-c969c3a289fc",
   "metadata": {},
   "outputs": [],
   "source": []
  },
  {
   "cell_type": "code",
   "execution_count": 6,
   "id": "a2712284-28b0-4ea4-927d-662beb3c8518",
   "metadata": {},
   "outputs": [
    {
     "name": "stdin",
     "output_type": "stream",
     "text": [
      " mert ürper Ali Veli Can\n"
     ]
    },
    {
     "name": "stdout",
     "output_type": "stream",
     "text": [
      "UPPER CASE 3\n",
      "LOWER CASE 16\n"
     ]
    }
   ],
   "source": [
    "word = input()\n",
    "upper = sum(1 for i in word if i.isupper())           # sum function cumulatively sum up 1's if the condition is True\n",
    "lower = sum(1 for i in word if i.islower())\n",
    "\n",
    "print(\"UPPER CASE {0}\\nLOWER CASE {1}\".format(upper,lower))"
   ]
  },
  {
   "cell_type": "markdown",
   "id": "b7df9e1d-7470-4e8c-94ee-e64c0c85921b",
   "metadata": {},
   "source": [
    "# 2"
   ]
  },
  {
   "cell_type": "code",
   "execution_count": null,
   "id": "910fb20e-1651-4094-9fef-aa1854072a5c",
   "metadata": {},
   "outputs": [],
   "source": [
    "# Bir cümleyi kabul eden ve harf ve rakam sayısını hesaplayan bir program yazın."
   ]
  },
  {
   "cell_type": "code",
   "execution_count": 88,
   "id": "74f796ff-73b8-483a-90bb-78f04218a2da",
   "metadata": {},
   "outputs": [
    {
     "name": "stdin",
     "output_type": "stream",
     "text": [
      " mert 123\n"
     ]
    },
    {
     "name": "stdout",
     "output_type": "stream",
     "text": [
      "Rakam 3\n",
      "Harf 4\n"
     ]
    }
   ],
   "source": [
    "cumle = input()\n",
    "rakam = sum(1 for i in cumle if i.isnumeric())           # koşul doğruysa sum 1 arttırır\n",
    "harf = sum(1 for i in cumle if i.isalpha())\n",
    "\n",
    "print(\"Rakam {0}\\nHarf {1}\".format(rakam,harf))"
   ]
  },
  {
   "cell_type": "code",
   "execution_count": null,
   "id": "0ac3ba9d-d654-4f1f-b9d1-c61866e95a49",
   "metadata": {},
   "outputs": [],
   "source": []
  },
  {
   "cell_type": "code",
   "execution_count": 89,
   "id": "de9d40b1-580a-4075-8643-dfebcdd3393c",
   "metadata": {},
   "outputs": [
    {
     "name": "stdin",
     "output_type": "stream",
     "text": [
      " mert 123\n"
     ]
    },
    {
     "name": "stdout",
     "output_type": "stream",
     "text": [
      "Harf 4\n",
      "Rakam 3\n"
     ]
    }
   ],
   "source": [
    "cumle = input()\n",
    "harf, rakam = 0,0\n",
    "\n",
    "for i in cumle:\n",
    "    if i.isalpha(): # returns True if alphabet\n",
    "        harf += 1\n",
    "    elif i.isnumeric(): # returns True if numeric\n",
    "        rakam += 1\n",
    "print(f\"Harf {harf}\\nRakam {rakam}\") # two different types of formating method is shown in both solution"
   ]
  },
  {
   "cell_type": "code",
   "execution_count": null,
   "id": "81fa5945-c00c-48ee-96b2-b237293ab531",
   "metadata": {},
   "outputs": [],
   "source": []
  },
  {
   "cell_type": "code",
   "execution_count": 8,
   "id": "70b24ddf-cb69-405c-bf1e-2bf95be228d0",
   "metadata": {},
   "outputs": [
    {
     "name": "stdin",
     "output_type": "stream",
     "text": [
      " mert 123\n"
     ]
    },
    {
     "name": "stdout",
     "output_type": "stream",
     "text": [
      "{'DIGITS': 3, 'LETTERS': 4}\n"
     ]
    }
   ],
   "source": [
    "s = input()\n",
    "d = {\"DIGITS\":0, \"LETTERS\":0}\n",
    "for c in s:\n",
    "    if c.isdigit():\n",
    "        d[\"DIGITS\"]+=1\n",
    "    elif c.isalpha():\n",
    "        d[\"LETTERS\"]+=1\n",
    "\n",
    "print(d)"
   ]
  },
  {
   "cell_type": "markdown",
   "id": "07dd8d26-0274-4953-a448-18760e4de27e",
   "metadata": {},
   "source": [
    "# 3"
   ]
  },
  {
   "cell_type": "code",
   "execution_count": null,
   "id": "dbb8c900-bf58-4749-bdc2-86a11e319851",
   "metadata": {},
   "outputs": [],
   "source": [
    "# virgül ile ayrılmış sayı dizisini giriniz ve sonuçta sadece tek sayıların karesini virgülle ayırarak yazdırınız"
   ]
  },
  {
   "cell_type": "code",
   "execution_count": 16,
   "id": "4a672e46-add3-42b5-b76e-601429f1b177",
   "metadata": {},
   "outputs": [
    {
     "name": "stdin",
     "output_type": "stream",
     "text": [
      " 11,22,21,33,52\n"
     ]
    },
    {
     "name": "stdout",
     "output_type": "stream",
     "text": [
      "121,441,1089\n"
     ]
    }
   ],
   "source": [
    "sayılar = [str(int(i)**2) for i in input().split(',') if int(i) % 2 != 0]\n",
    "print(\",\".join(sayılar))"
   ]
  },
  {
   "cell_type": "code",
   "execution_count": null,
   "id": "95e69937-4792-4e12-b70b-8e313ae49682",
   "metadata": {},
   "outputs": [],
   "source": []
  },
  {
   "cell_type": "code",
   "execution_count": 17,
   "id": "6d088c1e-18a0-417d-9189-997fc64b9ced",
   "metadata": {},
   "outputs": [
    {
     "name": "stdin",
     "output_type": "stream",
     "text": [
      " 11,22,21,33,52\n"
     ]
    },
    {
     "name": "stdout",
     "output_type": "stream",
     "text": [
      "121,441,1089\n"
     ]
    }
   ],
   "source": [
    "lst = input().split(',')     # splits in comma position and set up in list\n",
    "\n",
    "seq = []\n",
    "lst = [int(i) for i in lst]  # converts string to integer\n",
    "for i in lst:\n",
    "        if i%2 != 0:\n",
    "                i = i*i\n",
    "                seq.append(i)\n",
    "\n",
    "\n",
    "seq = [str(i) for i in seq]   # All the integers are converted to string to be able to apply join operation\n",
    "print(\",\".join(seq))"
   ]
  },
  {
   "cell_type": "markdown",
   "id": "c5f60e22-b9f8-4ae2-bf6c-43e8995335f7",
   "metadata": {},
   "source": [
    "# 4"
   ]
  },
  {
   "cell_type": "code",
   "execution_count": 18,
   "id": "fbb76d20-e7ac-473d-8e49-f6f19fabd307",
   "metadata": {},
   "outputs": [
    {
     "name": "stdin",
     "output_type": "stream",
     "text": [
      "deneme sayısını giriniz:  2\n",
      "sayıyı(1-100) tahmin ediniz:  50\n"
     ]
    },
    {
     "name": "stdout",
     "output_type": "stream",
     "text": [
      "sayı yukarıda...kalan tahmin sayınız : 1\n"
     ]
    },
    {
     "name": "stdin",
     "output_type": "stream",
     "text": [
      "sayıyı(1-100) tahmin ediniz:  56\n"
     ]
    },
    {
     "name": "stdout",
     "output_type": "stream",
     "text": [
      "sayı yukarıda...kalan tahmin sayınız : 0\n",
      "sayıyı bilemediniz, sayı : 75\n"
     ]
    },
    {
     "name": "stdin",
     "output_type": "stream",
     "text": [
      "oyuna devam etmek istiyor musunuz..(E/H) H\n"
     ]
    },
    {
     "name": "stdout",
     "output_type": "stream",
     "text": [
      "güle güle...\n"
     ]
    }
   ],
   "source": [
    "# sayı tahmin etme oyunu\n",
    "\n",
    "from random import randint\n",
    "\n",
    "oyunDurumu = True    \n",
    "\n",
    "while oyunDurumu:\n",
    "    rastgeleSayi = randint(1,100)\n",
    "    hak = int(input(\"deneme sayısını giriniz: \"))\n",
    "    while True:\n",
    "        if hak > 0:\n",
    "            tahmin = int(input(\"sayıyı(1-100) tahmin ediniz: \"))\n",
    "        else:\n",
    "            print(f\"sayıyı bilemediniz, sayı : {rastgeleSayi}\")\n",
    "            break  \n",
    "        if tahmin != rastgeleSayi:\n",
    "            hak -= 1\n",
    "            if tahmin > rastgeleSayi:\n",
    "                print(f\"sayı aşağıda...kalan tahmin sayınız : {hak}\")\n",
    "            else:\n",
    "                print(f\"sayı yukarıda...kalan tahmin sayınız : {hak}\")\n",
    "        else:\n",
    "            print(\"tebrikler sayıyı buldunuz\")\n",
    "            break\n",
    "    \n",
    "    kontrol = input(\"oyuna devam etmek istiyor musunuz..(E/H)\")\n",
    "    if kontrol == \"E\":\n",
    "        oyunDurumu = True\n",
    "    else:\n",
    "        print(\"güle güle...\")\n",
    "        oyunDurumu = False    # en baştaki while dögüsünü kırar"
   ]
  },
  {
   "cell_type": "code",
   "execution_count": null,
   "id": "672cd5cd-4602-4ae3-b68f-54720feac283",
   "metadata": {},
   "outputs": [],
   "source": []
  },
  {
   "cell_type": "markdown",
   "id": "8795085e-a618-4c0f-93d0-e9a8f36be673",
   "metadata": {},
   "source": [
    "# 5"
   ]
  },
  {
   "cell_type": "markdown",
   "id": "296081c9-b0dc-447b-9174-c54d2c405903",
   "metadata": {},
   "source": [
    " Amaç: Aşağıdaki şekilde string değiştiren fonksiyon yazmak istiyoruz.\n",
    "    \n",
    "before: \"hi my name is john and i am learning python\"\n",
    "\n",
    "after: \"Hi mY NaMe iS JoHn aNd i aM LeArNiNg pYtHoN\""
   ]
  },
  {
   "cell_type": "code",
   "execution_count": 1,
   "id": "9cdca030-f55c-4d94-8536-6116d6bc7227",
   "metadata": {},
   "outputs": [
    {
     "name": "stdout",
     "output_type": "stream",
     "text": [
      "Hi mY NaMe iS JoHn aNd i aM LeArNiNg pYtHoN\n"
     ]
    }
   ],
   "source": [
    "def alternating(string):\n",
    "    new_string = \"\"\n",
    "    # girilen string'in index'lerinde gez.\n",
    "    for string_index in range(len(string)):\n",
    "        # index çift ise büyük harfe çevir.\n",
    "        if string_index % 2 == 0:\n",
    "            new_string += string[string_index].upper()\n",
    "        # index tek ise küçük harfe çevir.\n",
    "        else:\n",
    "            new_string += string[string_index].lower()\n",
    "    print(new_string)\n",
    "\n",
    "alternating(\"hi my name is john and i am learning python\")"
   ]
  },
  {
   "cell_type": "markdown",
   "id": "f9a06dab-c948-49e4-8a2c-f1fefd31bfe6",
   "metadata": {},
   "source": [
    "# 6"
   ]
  },
  {
   "cell_type": "markdown",
   "id": "2ddf28b7-f0bc-4a3b-9675-6480f6cef798",
   "metadata": {},
   "source": [
    "divide_students fonksiyonu yazınız.\n",
    "\n",
    "Çift indexte yer alan öğrencileri bir listeye alınız.\n",
    "\n",
    "Tek indexte yer alan öğrencileri başka bir listeye alınız.\n",
    "\n",
    "Fakat bu iki liste tek bir liste olarak return olsun.\n",
    "\n",
    "Enumerate"
   ]
  },
  {
   "cell_type": "code",
   "execution_count": 11,
   "id": "8f67e8dd-9859-479f-9d1e-bd9cf752e0dc",
   "metadata": {},
   "outputs": [
    {
     "name": "stdout",
     "output_type": "stream",
     "text": [
      "[['Emma', 'Justin'], ['Adam', 'Paul']]\n",
      "['Emma', 'Justin']\n",
      "['Adam', 'Paul']\n"
     ]
    }
   ],
   "source": [
    "def divide_students(students):\n",
    "    groups = [[], []]\n",
    "    for index, student in enumerate(students):        # Enumerate ile listenin elemanlarını indexledik \n",
    "        if index % 2 == 0:\n",
    "            groups[0].append(student)\n",
    "        else:\n",
    "            groups[1].append(student)\n",
    "    print(groups)\n",
    "    return groups\n",
    "\n",
    "students = [\"Emma\", \"Adam\", \"Justin\", \"Paul\"]\n",
    "st = divide_students(students)\n",
    "\n",
    "print(st[0])       # çift index\n",
    "print(st[1])       # tek index"
   ]
  },
  {
   "cell_type": "code",
   "execution_count": 5,
   "id": "4e10e10e-fa6b-43ae-8986-4e152b7e5c9d",
   "metadata": {},
   "outputs": [
    {
     "name": "stdout",
     "output_type": "stream",
     "text": [
      "(0, 'Emma') (1, 'Adam') (2, 'Justin') (3, 'Paul')\n"
     ]
    }
   ],
   "source": [
    "print(*enumerate(students))           # enumerate çalışma mantığı"
   ]
  },
  {
   "cell_type": "markdown",
   "id": "1b3b57c4-676a-4e01-bedf-fe2e9d8aad9a",
   "metadata": {},
   "source": [
    "# 7"
   ]
  },
  {
   "cell_type": "markdown",
   "id": "2550b9f7-3287-4c61-a648-202678703010",
   "metadata": {},
   "source": [
    "Amaç: çift sayıların karesi alınarak bir sözlüğe eklenmek istemektedir.\n",
    "\n",
    "Key'ler orjinal değerler value'lar ise değiştirilmiş değerler olacak.\n",
    "\n",
    "Dict Comprehensions"
   ]
  },
  {
   "cell_type": "code",
   "execution_count": 3,
   "id": "120f3cd5-120b-44ab-995c-debce9dcdbf8",
   "metadata": {},
   "outputs": [
    {
     "data": {
      "text/plain": [
       "{0: 0, 2: 4, 4: 16, 6: 36, 8: 64}"
      ]
     },
     "execution_count": 3,
     "metadata": {},
     "output_type": "execute_result"
    }
   ],
   "source": [
    "numbers = range(10)\n",
    "new_dict = {}\n",
    "\n",
    "for n in numbers:\n",
    "    if n % 2 == 0:\n",
    "        new_dict[n] = n ** 2\n",
    "\n",
    "{n: n ** 2 for n in numbers if n % 2 == 0}\n",
    "     "
   ]
  },
  {
   "cell_type": "markdown",
   "id": "3eae532b-ed90-41a7-8983-03fe10c53279",
   "metadata": {},
   "source": [
    "# 8"
   ]
  },
  {
   "cell_type": "code",
   "execution_count": 7,
   "id": "44a06121-37e5-4d46-80b7-7aa8af81cb4e",
   "metadata": {},
   "outputs": [
    {
     "name": "stdin",
     "output_type": "stream",
     "text": [
      "Lutfen bir 5 basamakli bir sayi giriniz 4567\n"
     ]
    },
    {
     "name": "stdout",
     "output_type": "stream",
     "text": [
      "Lutfen 5 basamakli bir sayi giriniz\n"
     ]
    },
    {
     "name": "stdin",
     "output_type": "stream",
     "text": [
      "Lutfen bir 5 basamakli bir sayi giriniz \n"
     ]
    },
    {
     "name": "stdout",
     "output_type": "stream",
     "text": [
      "Lutfen 5 basamakli bir sayi giriniz\n"
     ]
    },
    {
     "name": "stdin",
     "output_type": "stream",
     "text": [
      "Lutfen bir 5 basamakli bir sayi giriniz 45678\n"
     ]
    },
    {
     "name": "stdout",
     "output_type": "stream",
     "text": [
      "45678 sayisinin basamaklarinin toplami : 30\n",
      "45678 sayisinin basamaklarinin toplami : 30\n"
     ]
    }
   ],
   "source": [
    "# 1-) Kullanıcın girdiği 5 basamaklı bir sayının,\n",
    "# basamaklarının toplamını ekrana yazdıran python kodlarını yazınız?\n",
    "durum = True\n",
    "while durum:\n",
    "    x = input(\"Lutfen bir 5 basamakli bir sayi giriniz\")\n",
    "    if x.isnumeric() and len(x) == 5 :\n",
    "        x = int(x)\n",
    "        basamak_toplam = 0\n",
    "        temp = x\n",
    "        while x > 0 :\n",
    "            basamak_toplam += x%10\n",
    "            x //= 10\n",
    "        print(f\"{temp} sayisinin basamaklarinin toplami : {basamak_toplam}\")\n",
    "        print(temp, \"sayisinin basamaklarinin toplami :\", basamak_toplam)\n",
    "        durum = False\n",
    "    else :\n",
    "        print(\"Lutfen 5 basamakli bir sayi giriniz\")\n",
    "        durum = True"
   ]
  },
  {
   "cell_type": "code",
   "execution_count": 9,
   "id": "81a9f90b-caaa-4781-b69b-850b3041a5c2",
   "metadata": {},
   "outputs": [
    {
     "name": "stdin",
     "output_type": "stream",
     "text": [
      "Lutfen bir 5 basamakli bir sayi giriniz 1234\n"
     ]
    },
    {
     "name": "stdout",
     "output_type": "stream",
     "text": [
      "Lutfen 5 basamakli bir sayi giriniz\n"
     ]
    },
    {
     "name": "stdin",
     "output_type": "stream",
     "text": [
      "Lutfen bir 5 basamakli bir sayi giriniz 45678\n"
     ]
    },
    {
     "name": "stdout",
     "output_type": "stream",
     "text": [
      "45678 sayisinin basamaklarinin toplami : 30\n",
      "45678 sayisinin basamaklarinin toplami : 30\n"
     ]
    }
   ],
   "source": [
    "while True:\n",
    "    x = input(\"Lutfen bir 5 basamakli bir sayi giriniz\")\n",
    "    if x.isnumeric() and len(x) == 5 :\n",
    "        x = int(x)\n",
    "        basamak_toplam = 0\n",
    "        temp = x\n",
    "        while x > 0 :\n",
    "            basamak_toplam += x%10\n",
    "            x //= 10\n",
    "        print(f\"{temp} sayisinin basamaklarinin toplami : {basamak_toplam}\")\n",
    "        print(temp, \"sayisinin basamaklarinin toplami :\", basamak_toplam)\n",
    "        break\n",
    "    else :\n",
    "        print(\"Lutfen 5 basamakli bir sayi giriniz\")"
   ]
  },
  {
   "cell_type": "markdown",
   "id": "e71d67b4-4d05-48be-acb7-8eb4c1d48db5",
   "metadata": {},
   "source": [
    "# 9"
   ]
  },
  {
   "cell_type": "code",
   "execution_count": null,
   "id": "e27b3fcc-e6f7-40eb-9386-88f86c2655ee",
   "metadata": {},
   "outputs": [],
   "source": [
    "# girilen sayının istenen aralıkta olup olmadığına bakma"
   ]
  },
  {
   "cell_type": "code",
   "execution_count": 12,
   "id": "5d7e6e42-678c-4b21-b853-2844a45ab8e7",
   "metadata": {},
   "outputs": [
    {
     "name": "stdout",
     "output_type": "stream",
     "text": [
      "Aradiginiz 58 sayisi verdiğiniz 50 ve 100 sayilari arasindadir\n"
     ]
    }
   ],
   "source": [
    "def sayi_VarMi2(sayi,baslangic, bitis) :\n",
    "    sayi_araligi=list(range(baslangic,bitis))\n",
    "    \n",
    "    [print(f\"Aradiginiz {sayi} sayisi verdiğiniz {baslangic} ve {bitis} sayilari arasindadir\")\n",
    "      if sayi in sayi_araligi \n",
    "      else print(f\"Aradiginiz {sayi} sayisi verdiğiniz {baslangic} ve {bitis} sayilari arasinda değildir  \") ] #list comp\n",
    "    \n",
    "sayi_VarMi2(58,50,100)"
   ]
  },
  {
   "cell_type": "markdown",
   "id": "3bddb3fd-3750-4932-a500-b400824d7f0f",
   "metadata": {},
   "source": [
    "# 10"
   ]
  },
  {
   "cell_type": "code",
   "execution_count": 1,
   "id": "4adee8e7-abbd-4011-bef5-9048262fe602",
   "metadata": {},
   "outputs": [
    {
     "name": "stdin",
     "output_type": "stream",
     "text": [
      "bir metin giriniz:  merhaba python\n"
     ]
    },
    {
     "name": "stdout",
     "output_type": "stream",
     "text": [
      "sesli harf sayısı: 4\n",
      "sessiz harf sayısı: 10\n"
     ]
    }
   ],
   "source": [
    "# kulanıcıdan alınan ismin kaç adet sesli ve sessiz harf içerdiğini bulma \n",
    "\n",
    "yazi = input(\"bir metin giriniz: \")\n",
    "\n",
    "sesliDegisken = \"aeıioöuü\"\n",
    "sesliSayac = 0\n",
    "\n",
    "for harf in yazi:\n",
    "    if harf in sesliDegisken:\n",
    "        sesliSayac += 1\n",
    "\n",
    "print(f\"sesli harf sayısı: {sesliSayac}\")\n",
    "print(f\"sessiz harf sayısı: {len(yazi) - sesliSayac}\")"
   ]
  },
  {
   "cell_type": "code",
   "execution_count": null,
   "id": "fa3c7ec7-154d-4f1d-b777-e397937f0229",
   "metadata": {},
   "outputs": [],
   "source": []
  },
  {
   "cell_type": "markdown",
   "id": "7c2e6f8f-1099-4d29-8fda-4b3e931b67f9",
   "metadata": {},
   "source": [
    "# 11"
   ]
  },
  {
   "cell_type": "code",
   "execution_count": 2,
   "id": "9b3c1ac3-1014-40e8-9937-e0d3afa976f7",
   "metadata": {},
   "outputs": [
    {
     "name": "stdin",
     "output_type": "stream",
     "text": [
      "1. sayıyı giriniz:  45\n",
      "2. sayıyı giriniz:  85\n",
      "3. sayıyı giriniz:  74\n",
      "4. sayıyı giriniz:  86\n",
      "5. sayıyı giriniz:  93\n",
      "6. sayıyı giriniz:  12\n",
      "7. sayıyı giriniz:  45\n",
      "8. sayıyı giriniz:  65\n",
      "9. sayıyı giriniz:  36\n",
      "10. sayıyı giriniz:  58\n"
     ]
    },
    {
     "name": "stdout",
     "output_type": "stream",
     "text": [
      "5 adet tek sayı vardır, toplamları 333'dır\n",
      "tek sayıların ortalaması 66.6\n",
      "5 adet çift sayı vardır, toplamları 266'dır\n",
      "tek sayıların ortalaması 53.2\n"
     ]
    }
   ],
   "source": [
    "# kullanıcıdan alınan 10 adet sayının tek, çift, toplam ve ortalamalarını bulma\n",
    "\n",
    "s = 0\n",
    "tekSayac = 0\n",
    "ciftSayac = 0\n",
    "tekToplam = 0\n",
    "ciftToplam = 0\n",
    "ortalama = 0\n",
    "\n",
    "for sayi in range(1,11):\n",
    "    s = int(input(f\"{sayi}. sayıyı giriniz: \"))\n",
    "    if s % 2 == 1:\n",
    "        tekSayac += 1\n",
    "        tekToplam += s\n",
    "    else:\n",
    "        ciftSayac += 1\n",
    "        ciftToplam += s\n",
    "    \n",
    "print(f\"{tekSayac} adet tek sayı vardır, toplamları {tekToplam}'dır\")\n",
    "print(f\"tek sayıların ortalaması {tekToplam / tekSayac}\")\n",
    "print(f\"{ciftSayac} adet çift sayı vardır, toplamları {ciftToplam}'dır\")\n",
    "print(f\"tek sayıların ortalaması {ciftToplam / ciftSayac}\")"
   ]
  },
  {
   "cell_type": "code",
   "execution_count": null,
   "id": "259c8120-1ad0-48ed-82cf-af824875775c",
   "metadata": {},
   "outputs": [],
   "source": []
  },
  {
   "cell_type": "markdown",
   "id": "146ee1ad-0aca-47e1-9fa2-5ebfef8ebff2",
   "metadata": {},
   "source": [
    "# 12"
   ]
  },
  {
   "cell_type": "code",
   "execution_count": 3,
   "id": "820259ab-a26f-4dc7-bf76-58e68403bcdf",
   "metadata": {},
   "outputs": [
    {
     "name": "stdin",
     "output_type": "stream",
     "text": [
      "kaç adet sayı girmek istersiniz:  5\n",
      "sayıları giriniz:  56\n",
      "sayıları giriniz:  45\n",
      "sayıları giriniz:  85\n",
      "sayıları giriniz:  25\n",
      "sayıları giriniz:  65\n"
     ]
    },
    {
     "name": "stdout",
     "output_type": "stream",
     "text": [
      "[56, 45, 85, 25, 65]\n",
      "toplam = 276\n",
      "ortalama = 55.2\n"
     ]
    }
   ],
   "source": [
    "# kullanıcın istediği kadar sayıyı alarak bir diziye aktarma ve bu sayıların toplamını ve ortalamasını bulma\n",
    "\n",
    "adet = int(input(\"kaç adet sayı girmek istersiniz: \"))\n",
    "\n",
    "dizi = []\n",
    "\n",
    "for i in range(adet):\n",
    "    dizi.append(int(input(\"sayıları giriniz: \")))\n",
    "    \n",
    "print(dizi)\n",
    "\n",
    "toplam = 0\n",
    "\n",
    "for x in dizi:\n",
    "    toplam += x\n",
    "print(f\"toplam = {toplam}\")\n",
    "print(f\"ortalama = {toplam / adet}\")"
   ]
  },
  {
   "cell_type": "code",
   "execution_count": null,
   "id": "2cb89d47-e9b9-4854-98f7-ceb20b537091",
   "metadata": {},
   "outputs": [],
   "source": []
  }
 ],
 "metadata": {
  "kernelspec": {
   "display_name": "Python 3 (ipykernel)",
   "language": "python",
   "name": "python3"
  },
  "language_info": {
   "codemirror_mode": {
    "name": "ipython",
    "version": 3
   },
   "file_extension": ".py",
   "mimetype": "text/x-python",
   "name": "python",
   "nbconvert_exporter": "python",
   "pygments_lexer": "ipython3",
   "version": "3.9.13"
  }
 },
 "nbformat": 4,
 "nbformat_minor": 5
}
