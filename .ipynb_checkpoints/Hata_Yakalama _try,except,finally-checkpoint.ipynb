{
 "cells": [
  {
   "cell_type": "markdown",
   "metadata": {},
   "source": [
    "# Hata Yakalama - try,except,finally\n",
    "Bu konuda programlarımızda hata verebilecek kodları yakalayabildiğimiz try,except,finally bloklarını ve fonksiyonlarda kendi hatalarımızı nasıl fırlatacağımızı öğreneceğiz.\n",
    "\n",
    "### try , except blokları\n",
    "\n",
    "\n",
    "try ,except bloklarının yapısı şu şekildedir;\n",
    "\n",
    "                    try:\n",
    "                    \n",
    "                        Hata çıkarabilecek kodlar buraya yazılıyor.\n",
    "                        Eğer hata çıkarsa program uygun olan except bloğuna girecek.\n",
    "                        Hata oluşursa try bloğunun geri kalanındaki işlemler çalışmayacak.\n",
    "                    except Hata1:\n",
    "                        Hata1 oluştuğunda burası çalışacak.\n",
    "                    except Hata2:\n",
    "                        Hata2 oluştuğunda burası çalışacak.\n",
    "                        \n",
    "                        //\n",
    "                        //\n",
    "                        //\n"
   ]
  },
  {
   "cell_type": "code",
   "execution_count": 7,
   "metadata": {},
   "outputs": [
    {
     "name": "stdin",
     "output_type": "stream",
     "text": [
      "Bir sayi girin 5\n",
      "Bir sayi girin d\n"
     ]
    },
    {
     "name": "stdout",
     "output_type": "stream",
     "text": [
      "bu yaziyi goruyorsaniz girdiginiz sayilarda hata vardir\n"
     ]
    }
   ],
   "source": [
    "x= input(\"Bir sayi girin\")\n",
    "y= input(\"Bir sayi girin\")\n",
    "\n",
    "try:\n",
    "    a=int(x)/int(y)\n",
    "    print(a)\n",
    "except :\n",
    "    print(\"bu yaziyi goruyorsaniz girdiginiz sayilarda hata vardir\") "
   ]
  },
  {
   "cell_type": "code",
   "execution_count": null,
   "metadata": {},
   "outputs": [],
   "source": []
  },
  {
   "cell_type": "code",
   "execution_count": 2,
   "metadata": {},
   "outputs": [
    {
     "name": "stdout",
     "output_type": "stream",
     "text": [
      "1\n",
      "2\n",
      "50\n",
      "100\n"
     ]
    }
   ],
   "source": [
    "liste = [\"1\",\"2\",\"5a\",\"10b\",\"abc\",\"50\",\"100\"]\n",
    "\n",
    "for x in liste:\n",
    "    try:\n",
    "        result = int(x)\n",
    "        print(x)\n",
    "        \n",
    "    except ValueError:\n",
    "        continue"
   ]
  },
  {
   "cell_type": "code",
   "execution_count": null,
   "metadata": {},
   "outputs": [],
   "source": []
  },
  {
   "cell_type": "code",
   "execution_count": 15,
   "metadata": {
    "tags": []
   },
   "outputs": [
    {
     "name": "stdout",
     "output_type": "stream",
     "text": [
      "Sayı1:12\n",
      "Sayı2:12sdasdad\n",
      "Lütfen inputları doğru girin.\n"
     ]
    }
   ],
   "source": [
    "try:\n",
    "    a = int(input(\"Sayı1:\"))\n",
    "    b = int(input(\"Sayı2:\")) \n",
    "    print(a / b)\n",
    "except ValueError:\n",
    "    print(\"Lütfen inputları doğru girin.\")\n",
    "except ZeroDivisionError:\n",
    "    print(\"Bir sayı 0'a bölünemez.\")"
   ]
  },
  {
   "cell_type": "markdown",
   "metadata": {},
   "source": [
    "İstersek bu iki hatanın aynı except bloğuna girmesini sağlayabiliriz."
   ]
  },
  {
   "cell_type": "code",
   "execution_count": null,
   "metadata": {},
   "outputs": [],
   "source": []
  },
  {
   "cell_type": "code",
   "execution_count": 1,
   "metadata": {},
   "outputs": [
    {
     "name": "stdout",
     "output_type": "stream",
     "text": [
      "Sayı1:12\n",
      "Sayı2:213213sadsadsadasd\n",
      "ZeroDivision veya ValueError hatası\n"
     ]
    }
   ],
   "source": [
    "try:\n",
    "    a = int(input(\"Sayı1:\"))\n",
    "    b = int(input(\"Sayı2:\"))\n",
    "    print(a / b) \n",
    "except (ValueError,ZeroDivisionError):\n",
    "    print(\"ZeroDivision veya ValueError hatası\")"
   ]
  },
  {
   "cell_type": "code",
   "execution_count": 2,
   "metadata": {},
   "outputs": [
    {
     "name": "stdout",
     "output_type": "stream",
     "text": [
      "Sayı1:12\n",
      "Sayı2:0\n",
      "ZeroDivision veya ValueError hatası\n"
     ]
    }
   ],
   "source": [
    "try:\n",
    "    a = int(input(\"Sayı1:\"))\n",
    "    b = int(input(\"Sayı2:\")) \n",
    "    print(a / b) \n",
    "except (ValueError,ZeroDivisionError):\n",
    "    print(\"ZeroDivision veya ValueError hatası\")"
   ]
  },
  {
   "cell_type": "markdown",
   "metadata": {},
   "source": [
    "İşte burada gördüğümüz gibi bir kodda herhangi bir hata olduğunda try,except blokları ile hataları yakalayabiliyoruz."
   ]
  },
  {
   "cell_type": "code",
   "execution_count": null,
   "metadata": {},
   "outputs": [],
   "source": []
  },
  {
   "cell_type": "markdown",
   "metadata": {},
   "source": [
    "### try,except,finally blokları"
   ]
  },
  {
   "cell_type": "markdown",
   "metadata": {},
   "source": [
    "Bazen programlarımızda her durumda mutlaka çalışmasını istediğimiz kodlar bulunabilir.Bunun için biz kendi try,except bloklarına ek olarak bir tane **finally** bloğu ekleyebiliriz. **finally** blokları hata olması veya olmaması durumunda mutlaka çalışacaktır. Yapısı şu şekildedir;\n",
    "\n",
    "                    try:\n",
    "                    \n",
    "                        Hata çıkarabilecek kodlar buraya yazılıyor.\n",
    "                        Eğer hata çıkarsa program uygun olan except bloğuna girecek.\n",
    "                        Hata oluşursa try bloğunun geri kalanındaki işlemler çalışmayacak.\n",
    "                    except Hata1:\n",
    "                        Hata1 oluştuğunda burası çalışacak.\n",
    "                    except Hata2:\n",
    "                        Hata2 oluştuğunda burası çalışacak.\n",
    "                        \n",
    "                        //\n",
    "                        //\n",
    "                        //\n",
    "                    finally:\n",
    "                        Mutlaka çalışması gereken kodlar buraya yazılacak.\n",
    "                        Bu blok her türlü çalışacak.\n",
    "                        "
   ]
  },
  {
   "cell_type": "code",
   "execution_count": 3,
   "metadata": {},
   "outputs": [
    {
     "name": "stdout",
     "output_type": "stream",
     "text": [
      "Sayı1:12\n",
      "Sayı2:213213aaaaa\n",
      "Lütfen inputları doğru girin.\n",
      "Her durumda çalışıyorum.\n"
     ]
    }
   ],
   "source": [
    "try:\n",
    "    a = int(input(\"Sayı1:\"))\n",
    "    b = int(input(\"Sayı2:\"))\n",
    "    print(a / b) # Hata burada oluşuyor. ZeroDivisionError'a bloğuna giriyoruz.\n",
    "except ValueError:\n",
    "    print(\"Lütfen inputları doğru girin.\")\n",
    "except ZeroDivisionError:\n",
    "    print(\"Bir sayı 0'a bölünemez.\")\n",
    "finally:\n",
    "    print(\"Her durumda çalışıyorum.\")"
   ]
  },
  {
   "cell_type": "code",
   "execution_count": 4,
   "metadata": {},
   "outputs": [
    {
     "name": "stdin",
     "output_type": "stream",
     "text": [
      "Sayı1: 12\n",
      "Sayı2: 0\n"
     ]
    },
    {
     "name": "stdout",
     "output_type": "stream",
     "text": [
      "Bir sayı 0'a bölünemez.\n",
      "Her durumda çalışıyorum.\n"
     ]
    }
   ],
   "source": [
    "try:\n",
    "    a = int(input(\"Sayı1:\"))\n",
    "    b = int(input(\"Sayı2:\"))\n",
    "    print(a / b) # Hata burada oluşuyor. ZeroDivisionError'a bloğuna giriyoruz.\n",
    "except ValueError:\n",
    "    print(\"Lütfen inputları doğru girin.\")\n",
    "except ZeroDivisionError:\n",
    "    print(\"Bir sayı 0'a bölünemez.\")\n",
    "finally:\n",
    "    print(\"Her durumda çalışıyorum.\")\n",
    "    "
   ]
  },
  {
   "cell_type": "code",
   "execution_count": 5,
   "metadata": {},
   "outputs": [
    {
     "name": "stdout",
     "output_type": "stream",
     "text": [
      "Sayı1:12\n",
      "Sayı2:3\n",
      "4.0\n",
      "Her durumda çalışıyorum.\n"
     ]
    }
   ],
   "source": [
    "try:\n",
    "    a = int(input(\"Sayı1:\"))\n",
    "    b = int(input(\"Sayı2:\"))\n",
    "    print(a / b) # Hata burada oluşuyor. ZeroDivisionError'a bloğuna giriyoruz.\n",
    "except ValueError:\n",
    "    print(\"Lütfen inputları doğru girin.\")\n",
    "except ZeroDivisionError:\n",
    "    print(\"Bir sayı 0'a bölünemez.\")\n",
    "finally:\n",
    "    print(\"Her durumda çalışıyorum.\")\n",
    "    "
   ]
  },
  {
   "cell_type": "code",
   "execution_count": null,
   "metadata": {},
   "outputs": [],
   "source": []
  },
  {
   "cell_type": "markdown",
   "metadata": {},
   "source": [
    "### Hata fırlatmak\n",
    "\n",
    "Bazen kendi yazdığımız fonksiyonlar yanlış kullanılırsa kendi hatalarımızı üretip Pythonda bu hataları fırlatabiliriz. Bunun içinde **raise** anahtar kelimesini kullanacağız. Hata fırlatma şu şekilde yapılabilmektedir;\n",
    "                \n",
    "                raise HataAdı(opsiyonel hata mesajı)\n",
    "\n",
    "\n"
   ]
  },
  {
   "cell_type": "code",
   "execution_count": 1,
   "metadata": {
    "tags": []
   },
   "outputs": [
    {
     "data": {
      "text/plain": [
       "'nohtyP'"
      ]
     },
     "execution_count": 1,
     "metadata": {},
     "output_type": "execute_result"
    }
   ],
   "source": [
    "# Verilen string'i ters çevirmek\n",
    "def terscevir(s):\n",
    "    if (type(s) != str):\n",
    "        raise ValueError(\"Lütfen doğru bir input girin.\")\n",
    "    else:\n",
    "        return s[::-1]\n",
    "\n",
    "terscevir(\"Python\")"
   ]
  },
  {
   "cell_type": "code",
   "execution_count": 3,
   "metadata": {},
   "outputs": [
    {
     "ename": "ValueError",
     "evalue": "Lütfen doğru bir input girin.",
     "output_type": "error",
     "traceback": [
      "\u001b[1;31m---------------------------------------------------------------------------\u001b[0m",
      "\u001b[1;31mValueError\u001b[0m                                Traceback (most recent call last)",
      "\u001b[1;32m~\\AppData\\Local\\Temp\\ipykernel_12796\\2703416492.py\u001b[0m in \u001b[0;36m<module>\u001b[1;34m\u001b[0m\n\u001b[1;32m----> 1\u001b[1;33m \u001b[0mterscevir\u001b[0m\u001b[1;33m(\u001b[0m\u001b[1;36m12\u001b[0m\u001b[1;33m)\u001b[0m\u001b[1;33m\u001b[0m\u001b[1;33m\u001b[0m\u001b[0m\n\u001b[0m",
      "\u001b[1;32m~\\AppData\\Local\\Temp\\ipykernel_12796\\287800135.py\u001b[0m in \u001b[0;36mterscevir\u001b[1;34m(s)\u001b[0m\n\u001b[0;32m      2\u001b[0m \u001b[1;32mdef\u001b[0m \u001b[0mterscevir\u001b[0m\u001b[1;33m(\u001b[0m\u001b[0ms\u001b[0m\u001b[1;33m)\u001b[0m\u001b[1;33m:\u001b[0m\u001b[1;33m\u001b[0m\u001b[1;33m\u001b[0m\u001b[0m\n\u001b[0;32m      3\u001b[0m     \u001b[1;32mif\u001b[0m \u001b[1;33m(\u001b[0m\u001b[0mtype\u001b[0m\u001b[1;33m(\u001b[0m\u001b[0ms\u001b[0m\u001b[1;33m)\u001b[0m \u001b[1;33m!=\u001b[0m \u001b[0mstr\u001b[0m\u001b[1;33m)\u001b[0m\u001b[1;33m:\u001b[0m\u001b[1;33m\u001b[0m\u001b[1;33m\u001b[0m\u001b[0m\n\u001b[1;32m----> 4\u001b[1;33m         \u001b[1;32mraise\u001b[0m \u001b[0mValueError\u001b[0m\u001b[1;33m(\u001b[0m\u001b[1;34m\"Lütfen doğru bir input girin.\"\u001b[0m\u001b[1;33m)\u001b[0m\u001b[1;33m\u001b[0m\u001b[1;33m\u001b[0m\u001b[0m\n\u001b[0m\u001b[0;32m      5\u001b[0m     \u001b[1;32melse\u001b[0m\u001b[1;33m:\u001b[0m\u001b[1;33m\u001b[0m\u001b[1;33m\u001b[0m\u001b[0m\n\u001b[0;32m      6\u001b[0m         \u001b[1;32mreturn\u001b[0m \u001b[0ms\u001b[0m\u001b[1;33m[\u001b[0m\u001b[1;33m:\u001b[0m\u001b[1;33m:\u001b[0m\u001b[1;33m-\u001b[0m\u001b[1;36m1\u001b[0m\u001b[1;33m]\u001b[0m\u001b[1;33m\u001b[0m\u001b[1;33m\u001b[0m\u001b[0m\n",
      "\u001b[1;31mValueError\u001b[0m: Lütfen doğru bir input girin."
     ]
    }
   ],
   "source": [
    "terscevir(12)"
   ]
  },
  {
   "cell_type": "markdown",
   "metadata": {},
   "source": [
    "Bu fonksiyondan fırlatılan hatayı da try,except bloklarıyla yakalayabiliriz."
   ]
  },
  {
   "cell_type": "code",
   "execution_count": 5,
   "metadata": {},
   "outputs": [
    {
     "name": "stdout",
     "output_type": "stream",
     "text": [
      "Fonksiyonda bir hata oluştu.\n"
     ]
    }
   ],
   "source": [
    "try:\n",
    "    print(terscevir(12))\n",
    "except ValueError:\n",
    "    print(\"Fonksiyonda bir hata oluştu.\")"
   ]
  },
  {
   "cell_type": "code",
   "execution_count": null,
   "metadata": {},
   "outputs": [],
   "source": []
  },
  {
   "cell_type": "code",
   "execution_count": 9,
   "metadata": {},
   "outputs": [
    {
     "name": "stdin",
     "output_type": "stream",
     "text": [
      "sayı giriniz:  k\n"
     ]
    },
    {
     "name": "stdout",
     "output_type": "stream",
     "text": [
      "geçersiz sayı!!!\n"
     ]
    },
    {
     "name": "stdin",
     "output_type": "stream",
     "text": [
      "sayı giriniz:  e\n"
     ]
    },
    {
     "name": "stdout",
     "output_type": "stream",
     "text": [
      "geçersiz sayı!!!\n"
     ]
    },
    {
     "name": "stdin",
     "output_type": "stream",
     "text": [
      "sayı giriniz:  5\n"
     ]
    },
    {
     "name": "stdout",
     "output_type": "stream",
     "text": [
      "girdiğiniz sayı: 5.0\n"
     ]
    },
    {
     "name": "stdin",
     "output_type": "stream",
     "text": [
      "sayı giriniz:  q\n"
     ]
    },
    {
     "name": "stdout",
     "output_type": "stream",
     "text": [
      "çıkış yaptınız\n"
     ]
    }
   ],
   "source": [
    "while True:\n",
    "    sayi = input(\"sayı giriniz: \")\n",
    "    if sayi == \"q\":  \n",
    "        print(\"çıkış yaptınız\")\n",
    "        break\n",
    "\n",
    "    try:\n",
    "        result = float(sayi)\n",
    "        print(f\"girdiğiniz sayı: {result}\")\n",
    "\n",
    "\n",
    "    except ValueError:\n",
    "        print(\"geçersiz sayı!!!\")\n",
    "        continue"
   ]
  },
  {
   "cell_type": "code",
   "execution_count": null,
   "metadata": {
    "tags": []
   },
   "outputs": [],
   "source": []
  },
  {
   "cell_type": "code",
   "execution_count": 12,
   "metadata": {},
   "outputs": [
    {
     "name": "stdin",
     "output_type": "stream",
     "text": [
      "Bir sayi girin 5\n",
      "Bir sayi girin a\n"
     ]
    },
    {
     "name": "stdout",
     "output_type": "stream",
     "text": [
      "Sayilari dogru girdiginizden emin olun\n"
     ]
    },
    {
     "name": "stdin",
     "output_type": "stream",
     "text": [
      "Bir sayi girin 5\n",
      "Bir sayi girin 7\n"
     ]
    },
    {
     "name": "stdout",
     "output_type": "stream",
     "text": [
      "Girilen iki sayinin bolumu: 0.7142857142857143\n"
     ]
    }
   ],
   "source": [
    "while True:\n",
    "\n",
    "    x= (input(\"Bir sayi girin\"))   # While dongusuyle Kullanici dogru girene kadar sayi ister, sonra break\n",
    "    y= (input(\"Bir sayi girin\"))\n",
    "\n",
    "    try:\n",
    "        a= int(x)/int(y)\n",
    "        print(\"Girilen iki sayinin bolumu:\",a)\n",
    "        break\n",
    "\n",
    "    except (ValueError, ZeroDivisionError):\n",
    "        print(\"Sayilari dogru girdiginizden emin olun\")"
   ]
  },
  {
   "cell_type": "code",
   "execution_count": null,
   "metadata": {},
   "outputs": [],
   "source": []
  },
  {
   "cell_type": "code",
   "execution_count": 11,
   "metadata": {
    "tags": []
   },
   "outputs": [
    {
     "name": "stdin",
     "output_type": "stream",
     "text": [
      "1-Çalışan Ekle\n",
      "2-Çalışan Çıkar\n",
      "3-Verilecek Maaş Göster\n",
      "4-Maaşları Ver\n",
      "5-Masraf Gir\n",
      "6-Gelir Gir\n",
      "\n",
      "Seçiminizi giriniz:  a\n"
     ]
    },
    {
     "name": "stdout",
     "output_type": "stream",
     "text": [
      "lütfen sayı değeri giriniz.\n"
     ]
    },
    {
     "name": "stdin",
     "output_type": "stream",
     "text": [
      "1-Çalışan Ekle\n",
      "2-Çalışan Çıkar\n",
      "3-Verilecek Maaş Göster\n",
      "4-Maaşları Ver\n",
      "5-Masraf Gir\n",
      "6-Gelir Gir\n",
      "\n",
      "Seçiminizi giriniz:  8\n"
     ]
    },
    {
     "name": "stdout",
     "output_type": "stream",
     "text": [
      "Lütfen 1 ile 6 arasında değer giriniz: \n"
     ]
    },
    {
     "name": "stdin",
     "output_type": "stream",
     "text": [
      "1-Çalışan Ekle\n",
      "2-Çalışan Çıkar\n",
      "3-Verilecek Maaş Göster\n",
      "4-Maaşları Ver\n",
      "5-Masraf Gir\n",
      "6-Gelir Gir\n",
      "\n",
      "Seçiminizi giriniz:  1\n"
     ]
    },
    {
     "data": {
      "text/plain": [
       "'seçiminiz: 1'"
      ]
     },
     "execution_count": 11,
     "metadata": {},
     "output_type": "execute_result"
    }
   ],
   "source": [
    "def menuSecim():\n",
    "    while True:\n",
    "        try:\n",
    "            secim = int(input(\"1-Çalışan Ekle\\n2-Çalışan Çıkar\\n3-Verilecek Maaş Göster\\n4-Maaşları Ver\\n5-Masraf Gir\\n6-Gelir Gir\\n\\nSeçiminizi giriniz: \"))\n",
    "            if secim < 1 or secim > 6:\n",
    "                print((\"Lütfen 1 ile 6 arasında değer giriniz: \"))\n",
    "            else:\n",
    "                break\n",
    "        except ValueError:\n",
    "            print(\"lütfen sayı değeri giriniz.\")\n",
    "\n",
    "    return f\"seçiminiz: {secim}\"\n",
    "\n",
    "menuSecim()"
   ]
  },
  {
   "cell_type": "code",
   "execution_count": null,
   "metadata": {},
   "outputs": [],
   "source": []
  }
 ],
 "metadata": {
  "kernelspec": {
   "display_name": "Python 3 (ipykernel)",
   "language": "python",
   "name": "python3"
  },
  "language_info": {
   "codemirror_mode": {
    "name": "ipython",
    "version": 3
   },
   "file_extension": ".py",
   "mimetype": "text/x-python",
   "name": "python",
   "nbconvert_exporter": "python",
   "pygments_lexer": "ipython3",
   "version": "3.9.13"
  }
 },
 "nbformat": 4,
 "nbformat_minor": 4
}
