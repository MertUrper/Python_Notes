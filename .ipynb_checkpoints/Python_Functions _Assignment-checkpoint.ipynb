{
 "cells": [
  {
   "cell_type": "markdown",
   "id": "2de65dcd-cc6a-43a1-9317-213a8917a7e2",
   "metadata": {},
   "source": [
    "### 1. Write a Python function to find the maximum of three numbers."
   ]
  },
  {
   "cell_type": "code",
   "execution_count": 2,
   "id": "d46810c2-e938-4638-a794-62ce154245bb",
   "metadata": {},
   "outputs": [
    {
     "name": "stdin",
     "output_type": "stream",
     "text": [
      "1. sayıyı giriniz:  123\n",
      "2. sayıyı giriniz:  456\n",
      "3. sayıyı giriniz:  523\n"
     ]
    },
    {
     "name": "stdout",
     "output_type": "stream",
     "text": [
      "523\n"
     ]
    }
   ],
   "source": [
    "# 1. yol\n",
    "def maxx_number(a,b,c): \n",
    "    max_ = 0\n",
    "    for i in [number_1,number_2,number_3]:\n",
    "        if i > max_:\n",
    "            max_ = i\n",
    "    print(max_)   \n",
    "\n",
    "number_1 = int(input(\"1. sayıyı giriniz: \"))\n",
    "number_2 = int(input(\"2. sayıyı giriniz: \"))\n",
    "number_3 = int(input(\"3. sayıyı giriniz: \"))\n",
    "\n",
    "maxx_number(number_1,number_2,number_3)"
   ]
  },
  {
   "cell_type": "code",
   "execution_count": 139,
   "id": "f85d0ac4-c8ab-4a70-a50a-1062c751aa29",
   "metadata": {},
   "outputs": [
    {
     "name": "stdin",
     "output_type": "stream",
     "text": [
      "1. sayıyı giriniz:  45\n",
      "2. sayıyı giriniz:  85\n",
      "3. sayıyı giriniz:  65\n"
     ]
    },
    {
     "data": {
      "text/plain": [
       "'Girdiğiniz en büyük sayı: 85'"
      ]
     },
     "execution_count": 139,
     "metadata": {},
     "output_type": "execute_result"
    }
   ],
   "source": [
    "# 2. yol\n",
    "def max_number(a,b,c):\n",
    "    return f\"Girdiğiniz en büyük sayı: {max(number_1,number_2,number_3)}\"\n",
    "    \n",
    "number_1 = int(input(\"1. sayıyı giriniz: \"))\n",
    "number_2 = int(input(\"2. sayıyı giriniz: \"))\n",
    "number_3 = int(input(\"3. sayıyı giriniz: \"))\n",
    "\n",
    "max_number(number_1,number_2,number_3)"
   ]
  },
  {
   "cell_type": "code",
   "execution_count": 4,
   "id": "22f0d81f-54dd-485d-a388-b1ba0db04e41",
   "metadata": {},
   "outputs": [
    {
     "name": "stdin",
     "output_type": "stream",
     "text": [
      "1. sayıyı giriniz:  23\n",
      "2. sayıyı giriniz:  12\n",
      "3. sayıyı giriniz:  24\n"
     ]
    },
    {
     "name": "stdout",
     "output_type": "stream",
     "text": [
      "Girdiğiniz en büyük sayı: 24\n"
     ]
    }
   ],
   "source": [
    "# 3. yol \n",
    "\n",
    "number_1 = int(input(\"1. sayıyı giriniz: \"))\n",
    "number_2 = int(input(\"2. sayıyı giriniz: \"))\n",
    "number_3 = int(input(\"3. sayıyı giriniz: \"))\n",
    "\n",
    "if (number_1 > number_2) and (number_1 > number_3):\n",
    "    print(f\"Girdiğiniz en büyük sayı: {number_1}\")\n",
    "elif (number_2 > number_1) and (number_2 > number_3):\n",
    "    print(f\"Girdiğiniz en büyük sayı: {number_2}\")\n",
    "else:\n",
    "    print(f\"Girdiğiniz en büyük sayı: {number_3}\")"
   ]
  },
  {
   "cell_type": "code",
   "execution_count": 5,
   "id": "a5971020-46c3-4167-9549-69377402f9b6",
   "metadata": {},
   "outputs": [
    {
     "name": "stdin",
     "output_type": "stream",
     "text": [
      "sayı giriniz: 63\n",
      "sayı giriniz: 85\n",
      "sayı giriniz: 74\n"
     ]
    },
    {
     "name": "stdout",
     "output_type": "stream",
     "text": [
      "girdiğiniz en büyük sayı: 85\n"
     ]
    }
   ],
   "source": [
    "# 4. yol\n",
    "\n",
    "x = 0\n",
    "liste_ = []\n",
    "while x < 3:                                \n",
    "    numbers = int(input(\"sayı giriniz:\"))\n",
    "    liste_.append(numbers)\n",
    "    x += 1\n",
    "    \n",
    "print(f\"girdiğiniz en büyük sayı: {max(liste_)}\")"
   ]
  },
  {
   "cell_type": "markdown",
   "id": "3045a686-f1b3-4ddf-9a8f-00c67e03193d",
   "metadata": {},
   "source": [
    "### 2. Write a Python function to sum all the numbers in a list"
   ]
  },
  {
   "cell_type": "code",
   "execution_count": 6,
   "id": "2b2252a5-7ea0-4fc9-9709-3ed15ea0c5da",
   "metadata": {},
   "outputs": [
    {
     "name": "stdout",
     "output_type": "stream",
     "text": [
      "Expected Output: 20\n"
     ]
    }
   ],
   "source": [
    "# 1. yol\n",
    "def sum_numbers(x):\n",
    "    total = 0\n",
    "    for i in x:\n",
    "        total += i\n",
    "    print(f\"Expected Output: {total}\")\n",
    "\n",
    "Sample_List = [8, 2, 3, 0, 7]\n",
    "sum_numbers(Sample_List)"
   ]
  },
  {
   "cell_type": "code",
   "execution_count": 7,
   "id": "afb2e985-ef94-4792-a2f7-2f22dea0dbdb",
   "metadata": {},
   "outputs": [
    {
     "name": "stdout",
     "output_type": "stream",
     "text": [
      "Expected Output: 20\n"
     ]
    }
   ],
   "source": [
    "# 2. yol\n",
    "Sample_List = [8, 2, 3, 0, 7]\n",
    "print(f\"Expected Output: {sum(Sample_List)}\")"
   ]
  },
  {
   "cell_type": "code",
   "execution_count": 8,
   "id": "4c5ed3f3-39d7-4c02-bace-556157a25fba",
   "metadata": {},
   "outputs": [
    {
     "name": "stdout",
     "output_type": "stream",
     "text": [
      "Expected Output: 20\n"
     ]
    }
   ],
   "source": [
    "# 3. yol\n",
    "def sum_list(numbers):\n",
    "    total = 0\n",
    "    for number in numbers:\n",
    "        total += number\n",
    "    return total\n",
    "\n",
    "Sample_List = [8, 2, 3, 0, 7]\n",
    "print(f\"Expected Output: {sum_list(Sample_List)}\")"
   ]
  },
  {
   "cell_type": "markdown",
   "id": "ec54955d-abe5-46a3-a6f4-88a68f921391",
   "metadata": {},
   "source": [
    "### 3. Write a Python function to multiply all the numbers in a list."
   ]
  },
  {
   "cell_type": "code",
   "execution_count": 9,
   "id": "f41a94bf-f4b7-4905-8668-faccb69d9ffd",
   "metadata": {},
   "outputs": [
    {
     "name": "stdout",
     "output_type": "stream",
     "text": [
      "Expected Output: -336\n"
     ]
    }
   ],
   "source": [
    "# 1. yol\n",
    "Sample_List = [8, 2, 3, -1, 7]\n",
    "\n",
    "result = 1\n",
    "for i in Sample_List:\n",
    "    result *= i\n",
    "    \n",
    "print(f\"Expected Output: {result}\")    "
   ]
  },
  {
   "cell_type": "code",
   "execution_count": 10,
   "id": "2b5cffcc-80d0-4628-9034-076ccf5eaa47",
   "metadata": {},
   "outputs": [
    {
     "name": "stdout",
     "output_type": "stream",
     "text": [
      "Expected Output: -336\n"
     ]
    }
   ],
   "source": [
    "# 2. yol\n",
    "def multiply_list(numbers):\n",
    "    result = 1\n",
    "    for number in numbers:\n",
    "        result *= number\n",
    "    return result\n",
    "\n",
    "Sample_List = [8, 2, 3, -1, 7]\n",
    "print(f\"Expected Output: {multiply_list(Sample_List)}\")"
   ]
  },
  {
   "cell_type": "markdown",
   "id": "a8ce652f-48ec-4518-aa0b-97f7fd9e7dda",
   "metadata": {},
   "source": [
    "### 4. Write a Python program to reverse a string."
   ]
  },
  {
   "cell_type": "code",
   "execution_count": 11,
   "id": "932892b6-11db-4a11-b512-f985cc67b85f",
   "metadata": {},
   "outputs": [
    {
     "name": "stdout",
     "output_type": "stream",
     "text": [
      "Expected Output : dcba4321\n"
     ]
    }
   ],
   "source": [
    "# 1.yol\n",
    "\n",
    "Sample_String = \"1234abcd\"\n",
    "\n",
    "print(f\"Expected Output : {Sample_String[::-1]}\")"
   ]
  },
  {
   "cell_type": "code",
   "execution_count": 12,
   "id": "040ad74e-be77-4aa0-ad8e-a24165511b4f",
   "metadata": {},
   "outputs": [
    {
     "name": "stdout",
     "output_type": "stream",
     "text": [
      "Expected Output : dcba4321\n"
     ]
    }
   ],
   "source": [
    "# 2. yol\n",
    "\n",
    "Sample_String = \"1234abcd\"\n",
    "\n",
    "string = \"\"\n",
    "for i in Sample_String:\n",
    "    string = i + string                    # \" string = string + i \" yazarsak yine kendisi çıkar\n",
    "\n",
    "print(f\"Expected Output : {string}\")"
   ]
  },
  {
   "cell_type": "markdown",
   "id": "8bab71ef-e7e1-44ff-a351-3ffc973a15d3",
   "metadata": {},
   "source": [
    "### 5. Write a Python function to calculate the factorial of a number (a non-negative integer). The function accepts the number as an argument.\n"
   ]
  },
  {
   "cell_type": "code",
   "execution_count": 51,
   "id": "8859c73c-74e8-4299-a207-44722d16e0dc",
   "metadata": {},
   "outputs": [
    {
     "name": "stdin",
     "output_type": "stream",
     "text": [
      "bir sayı giriniz: -3\n"
     ]
    },
    {
     "name": "stdout",
     "output_type": "stream",
     "text": [
      "Negatif sayıların faktöriyeli alınamaz\n"
     ]
    },
    {
     "name": "stdin",
     "output_type": "stream",
     "text": [
      "bir sayı giriniz: 6\n"
     ]
    },
    {
     "name": "stdout",
     "output_type": "stream",
     "text": [
      "6 sayısının faktöriyeli: 720\n"
     ]
    }
   ],
   "source": [
    "# 1. yol \n",
    "\n",
    "def factorial(x):\n",
    "    \n",
    "    if x == 0:\n",
    "        return 1\n",
    "    else:\n",
    "        return x * factorial(x-1)\n",
    "while True:    \n",
    "    number = int(input(\"bir sayı giriniz:\"))    \n",
    "    if number < 0:                                             # negatif sayı kontrolü\n",
    "        print(\"Negatif sayıların faktöriyeli alınamaz\")\n",
    "    else:\n",
    "        print(f\"{number} sayısının faktöriyeli: {factorial(number)}\")\n",
    "        break"
   ]
  },
  {
   "cell_type": "code",
   "execution_count": 15,
   "id": "f64b9c66-f9e4-4cc7-81e3-ebe31fc7df7a",
   "metadata": {},
   "outputs": [
    {
     "name": "stdin",
     "output_type": "stream",
     "text": [
      "bir sayı giriniz: 6\n"
     ]
    },
    {
     "name": "stdout",
     "output_type": "stream",
     "text": [
      "6 sayısının faktöriyeli: 720\n"
     ]
    }
   ],
   "source": [
    "# 2. yol\n",
    "\n",
    "number = int(input(\"bir sayı giriniz:\"))    \n",
    "\n",
    "fact = 1\n",
    "for i in range(1,number + 1):\n",
    "    fact *= i\n",
    "print(f\"{number} sayısının faktöriyeli: {fact}\")"
   ]
  },
  {
   "cell_type": "markdown",
   "id": "bfb62280-6632-46da-931c-47575471bc35",
   "metadata": {},
   "source": [
    "### 6. Write a Python function to check whether a number falls within a given range."
   ]
  },
  {
   "cell_type": "code",
   "execution_count": 52,
   "id": "cf1947d0-793a-4583-a964-e8fff00dbe87",
   "metadata": {},
   "outputs": [
    {
     "name": "stdin",
     "output_type": "stream",
     "text": [
      "alt limiti giriniz:  56\n",
      "üst limiti giriniz:  98\n",
      "kontrol için sayı giriniz:  66\n"
     ]
    },
    {
     "name": "stdout",
     "output_type": "stream",
     "text": [
      "limitinizin içinden bir sayı seçtiniz\n"
     ]
    }
   ],
   "source": [
    "# 1. yol\n",
    "def kontrol(x):\n",
    "    if alt <= x <= üst:\n",
    "        print(\"limitinizin içinden bir sayı seçtiniz\")\n",
    "    else:\n",
    "        print(\"limitinizin dışından bir sayı seçtiniz\")\n",
    "    \n",
    "alt = int(input(\"alt limiti giriniz: \"))                      # aralık kullanıcıdan istendi\n",
    "üst = int(input(\"üst limiti giriniz: \"))\n",
    "\n",
    "sayi = int(input(\"kontrol için sayı giriniz: \"))  \n",
    "kontrol(sayi)"
   ]
  },
  {
   "cell_type": "code",
   "execution_count": 60,
   "id": "186c6e0b-b4a8-4024-ad74-6e09f15caa24",
   "metadata": {},
   "outputs": [
    {
     "name": "stdin",
     "output_type": "stream",
     "text": [
      "alt limiti giriniz:  50\n",
      "üst limiti giriniz:  101\n",
      "kontrol için sayı giriniz:  98\n"
     ]
    },
    {
     "name": "stdout",
     "output_type": "stream",
     "text": [
      "limitinizin içinden bir sayı seçtiniz\n"
     ]
    }
   ],
   "source": [
    "# 2. yol\n",
    "alt = int(input(\"alt limiti giriniz: \"))                     \n",
    "üst = int(input(\"üst limiti giriniz: \"))\n",
    "\n",
    "sayi = int(input(\"kontrol için sayı giriniz: \")) \n",
    "print(\"limitinizin içinden bir sayı seçtiniz\") if sayi in range(alt,üst) else print(\"limitinizin dışından bir sayı seçtiniz\")"
   ]
  },
  {
   "cell_type": "code",
   "execution_count": 55,
   "id": "0579fc00-4561-4c54-a198-59d7e2022054",
   "metadata": {},
   "outputs": [
    {
     "name": "stdin",
     "output_type": "stream",
     "text": [
      "50-100 arasında sayı giriniz:  125\n"
     ]
    },
    {
     "name": "stdout",
     "output_type": "stream",
     "text": [
      "Aralığın dışından bir sayı seçtiniz\n"
     ]
    }
   ],
   "source": [
    "# 3. yol\n",
    "def kontrol_2(x):\n",
    "    if x in range(50,101):                                # aralığı biz belirledik\n",
    "        print(\"Aralığın içinden bir sayı seçtiniz\")\n",
    "    else:\n",
    "        print(\"Aralığın dışından bir sayı seçtiniz\")\n",
    "\n",
    "sayi = int(input(\"50-100 arasında sayı giriniz: \"))  \n",
    "kontrol_2(sayi)"
   ]
  },
  {
   "cell_type": "markdown",
   "id": "dfe47e6d-bed6-479c-b09b-fb900d353e21",
   "metadata": {
    "tags": []
   },
   "source": [
    "### 7. Write a Python function that accepts a string and counts the number of upper and lower case letters."
   ]
  },
  {
   "cell_type": "code",
   "execution_count": 63,
   "id": "bb563e49-ed63-400e-82bb-21cfaf53bee5",
   "metadata": {},
   "outputs": [
    {
     "name": "stdin",
     "output_type": "stream",
     "text": [
      " The quick Brow Fox\n"
     ]
    },
    {
     "name": "stdout",
     "output_type": "stream",
     "text": [
      "Büyük harf 3\n",
      "Küçük harf 12\n"
     ]
    }
   ],
   "source": [
    "# 1. yol\n",
    "kelime = input()\n",
    "buyuk,kucuk = 0,0\n",
    "\n",
    "for i in kelime:\n",
    "    if 'a'<=i and i<='z':       # 97-122 arası harf sıralaması ---> 'a' < 'b' ifadesi True döndürür \n",
    "        kucuk+=1\n",
    "    if 'A'<=i and i<='Z':     # 65-90 arası    \n",
    "        buyuk+=1\n",
    "\n",
    "print(f\"Büyük harf {buyuk}\\nKüçük harf {kucuk}\")"
   ]
  },
  {
   "cell_type": "code",
   "execution_count": 64,
   "id": "61e5e232-83fc-4847-84f8-a574a086c660",
   "metadata": {},
   "outputs": [
    {
     "name": "stdin",
     "output_type": "stream",
     "text": [
      "Bir kelime giriniz:  The quick Brow Fox\n"
     ]
    },
    {
     "name": "stdout",
     "output_type": "stream",
     "text": [
      "Büyük Harf 3\n",
      "Küçük Harf 12\n"
     ]
    }
   ],
   "source": [
    "# 2. yol\n",
    "# Sample String : 'The quick Brow Fox'\n",
    "def search(x):\n",
    "    buyuk = 0\n",
    "    kucuk = 0\n",
    "\n",
    "    for i in x:\n",
    "        buyuk += i.islower()\n",
    "        kucuk += i.isupper()\n",
    "\n",
    "    print(\"Büyük Harf {0}\\nKüçük Harf {1}\".format(kucuk,buyuk))\n",
    "\n",
    "kelimeler = input(\"Bir kelime giriniz: \")\n",
    "search(kelimeler)"
   ]
  },
  {
   "cell_type": "code",
   "execution_count": 65,
   "id": "a3ac13b0-183e-4826-be20-89e32d9a860c",
   "metadata": {},
   "outputs": [
    {
     "name": "stdin",
     "output_type": "stream",
     "text": [
      "Bir kelime giriniz:  The quick Brow Fox\n"
     ]
    },
    {
     "name": "stdout",
     "output_type": "stream",
     "text": [
      "Büyük Harf 3\n",
      "Küçük Harf 12\n"
     ]
    }
   ],
   "source": [
    "# 3. yol\n",
    "# Sample String : 'The quick Brow Fox'\n",
    "kelimeler = input(\"Bir kelime giriniz: \")\n",
    "\n",
    "buyuk = sum(1 for i in kelimeler if i.isupper())           \n",
    "kucuk = sum(1 for i in kelimeler if i.islower())     \n",
    "\n",
    "print(\"Büyük Harf {0}\\nKüçük Harf {1}\".format(buyuk,kucuk))"
   ]
  },
  {
   "cell_type": "markdown",
   "id": "4c50adeb-de4e-4a30-a09c-5b4d733565aa",
   "metadata": {},
   "source": [
    "### 8. Write a Python function that takes a list and returns a new list with distinct elements from the first list."
   ]
  },
  {
   "cell_type": "code",
   "execution_count": 19,
   "id": "01c22f74-35ab-4004-b873-4a40073764c9",
   "metadata": {},
   "outputs": [
    {
     "name": "stdout",
     "output_type": "stream",
     "text": [
      "[1, 2, 3, 4, 5]\n"
     ]
    }
   ],
   "source": [
    "# 1. yol (for loop)\n",
    "def unique_list(x):\n",
    "    Unique_List = []\n",
    "    for i in x:                \n",
    "        if i not in Unique_List:\n",
    "            Unique_List.append(i)\n",
    "    print(Unique_List)\n",
    "\n",
    "Sample_List = [1,2,3,3,3,3,4,5]\n",
    "unique_list(Sample_List)"
   ]
  },
  {
   "cell_type": "code",
   "execution_count": 20,
   "id": "c5bfe966-1210-4171-ba9e-3e1ec3de6d82",
   "metadata": {},
   "outputs": [
    {
     "name": "stdout",
     "output_type": "stream",
     "text": [
      "[1, 2, 3, 4, 5]\n"
     ]
    }
   ],
   "source": [
    "# 2. yol(while)\n",
    "\n",
    "Sample_List = [1,2,3,3,3,3,4,5]\n",
    "Unique_List = []\n",
    "i = 0\n",
    "while i < len(Sample_List):                  \n",
    "    if Sample_List[i] not in Unique_List:\n",
    "        Unique_List.append(Sample_List[i])\n",
    "    i += 1\n",
    "print(Unique_List)"
   ]
  },
  {
   "cell_type": "code",
   "execution_count": 21,
   "id": "c2f17163-11cc-4df6-9582-3a9ca35514b9",
   "metadata": {},
   "outputs": [
    {
     "name": "stdout",
     "output_type": "stream",
     "text": [
      "[1, 2, 3, 4, 5]\n"
     ]
    }
   ],
   "source": [
    "# 3. yol (Set())\n",
    "\n",
    "Sample_List = [1,2,3,3,3,3,4,5]\n",
    "set_ = set(Sample_List)                      # liste set dönüşümü yapıldı \n",
    "Unique_List = list(set_)                     # set ile tekrar eden elemanlar atıldı sonra tekrar liste' ye çevrildi\n",
    "print(Unique_List)"
   ]
  },
  {
   "cell_type": "code",
   "execution_count": 2,
   "id": "d809c7e8-c964-4b13-8772-b5e49755f7b7",
   "metadata": {},
   "outputs": [
    {
     "data": {
      "text/plain": [
       "[1, 2, 3, 4, 5]"
      ]
     },
     "execution_count": 2,
     "metadata": {},
     "output_type": "execute_result"
    }
   ],
   "source": [
    "def unique_list(x):\n",
    "    return list(set(x))\n",
    "Sample_List = [1,2,3,3,3,3,4,5]\n",
    "unique_list(Sample_List)"
   ]
  },
  {
   "cell_type": "markdown",
   "id": "9de12885-4eea-4a98-a2d1-70456766c882",
   "metadata": {},
   "source": [
    "### 9. Write a Python function that takes a number as a parameter and checks whether the number is prime or not.\n",
    "Note : A prime number (or a prime) is a natural number greater than 1 and that has no positive divisors other than 1 and itself."
   ]
  },
  {
   "cell_type": "code",
   "execution_count": 9,
   "id": "bb839515-b67b-4675-b52d-f466b3b016d1",
   "metadata": {},
   "outputs": [
    {
     "name": "stdin",
     "output_type": "stream",
     "text": [
      "Asal sayı kontrolü için bir sayı giriniz:  2\n"
     ]
    },
    {
     "data": {
      "text/plain": [
       "True"
      ]
     },
     "execution_count": 9,
     "metadata": {},
     "output_type": "execute_result"
    }
   ],
   "source": [
    "def asal_mi(x):                         # sayının asal olup olmadığını döndüren fonksiyon\n",
    "    i = 2\n",
    "    if (x == 1):\n",
    "        return \"Asal değil\"       # 1'in durum\n",
    "    else:\n",
    "        while(i < x):\n",
    "            if (x % i == 0):      # sayımızın 2'den sonrası için bölünebilirlik kontrolü\n",
    "                return \"Asal değil\"  \n",
    "            i += 1\n",
    "    return True\n",
    "\n",
    "number = int(input(\"Asal sayı kontrolü için bir sayı giriniz: \"))\n",
    "asal_mi(number)"
   ]
  },
  {
   "cell_type": "code",
   "execution_count": 10,
   "id": "5da4fbac-473a-4bad-9e55-cb802fb90f54",
   "metadata": {},
   "outputs": [
    {
     "name": "stdout",
     "output_type": "stream",
     "text": [
      "sayi asal degildir\n"
     ]
    }
   ],
   "source": [
    "def prime_number(number):\n",
    "    list_1 =[1,number]\n",
    "    list_2 =[]\n",
    "    i = 1\n",
    "    while i<=number:\n",
    "        if (number%i == 0) :\n",
    "            list_2.append(i)\n",
    "        i +=1\n",
    "    if list_1 == list_2 :\n",
    "        print(\"sayi asaldir\")\n",
    "    else:\n",
    "        print(\"sayi asal degildir\")\n",
    "        \n",
    "prime_number(75)"
   ]
  },
  {
   "cell_type": "code",
   "execution_count": 11,
   "id": "cb503c62-b101-4c64-a343-d70765146427",
   "metadata": {},
   "outputs": [
    {
     "name": "stdout",
     "output_type": "stream",
     "text": [
      "Girilen 5 sayisi asal sayidir\n"
     ]
    }
   ],
   "source": [
    "def prime_number(sayi) :\n",
    "    \n",
    "    if sayi == 1 :\n",
    "        print(\"Asal degil\")\n",
    "    for i in list(range(2,sayi+1)) :\n",
    "        if sayi % i == 0 :\n",
    "            if sayi == i :\n",
    "                print(f\"Girilen {sayi} sayisi asal sayidir\")\n",
    "                break\n",
    "            else :\n",
    "                print(f\"Girilen sayi asal değildir\")\n",
    "                break\n",
    "                \n",
    "prime_number(5)"
   ]
  },
  {
   "cell_type": "markdown",
   "id": "144ffe80-33c0-4f64-a2eb-23aee5c868db",
   "metadata": {
    "tags": []
   },
   "source": [
    "### 10. Write a Python program to print the even numbers from a given list."
   ]
  },
  {
   "cell_type": "code",
   "execution_count": 23,
   "id": "0d539ed5-71c1-46ef-9135-8b09719c68aa",
   "metadata": {},
   "outputs": [
    {
     "name": "stdout",
     "output_type": "stream",
     "text": [
      "[2, 4, 6, 8]\n"
     ]
    }
   ],
   "source": [
    "Sample_List = [1, 2, 3, 4, 5, 6, 7, 8, 9]\n",
    "liste = []\n",
    "for i in Sample_List:\n",
    "    if i % 2 == 0:\n",
    "        liste.append(i)\n",
    "print(liste)"
   ]
  },
  {
   "cell_type": "code",
   "execution_count": 13,
   "id": "d0a96a2a-67c2-4c55-936e-dc663aa064bc",
   "metadata": {},
   "outputs": [
    {
     "data": {
      "text/plain": [
       "[2, 4, 6, 8]"
      ]
     },
     "execution_count": 13,
     "metadata": {},
     "output_type": "execute_result"
    }
   ],
   "source": [
    "Sample_List = [1, 2, 3, 4, 5, 6, 7, 8, 9]\n",
    "\n",
    "list(filter(lambda i : i % 2 == 0, Sample_List))       # filter-lambda"
   ]
  },
  {
   "cell_type": "code",
   "execution_count": 12,
   "id": "f6fc9f1e-6f38-460c-b1f6-0eb86d867da1",
   "metadata": {},
   "outputs": [
    {
     "data": {
      "text/plain": [
       "[2, 4, 6, 8]"
      ]
     },
     "execution_count": 12,
     "metadata": {},
     "output_type": "execute_result"
    }
   ],
   "source": [
    "Sample_List = [1, 2, 3, 4, 5, 6, 7, 8, 9]\n",
    "list(i for i in Sample_List if i % 2 == 0)           # list compr."
   ]
  },
  {
   "cell_type": "markdown",
   "id": "4890ae15-db58-41f5-bac7-68163751ad09",
   "metadata": {},
   "source": [
    "### 11. Write a Python function to check whether a number is \"Perfect\" or not.\n",
    "According to Wikipedia : In number theory, a perfect number is a positive integer that is equal to the sum of its proper positive divisors, that is, the sum of its positive divisors excluding the number itself (also known as its aliquot sum). Equivalently, a perfect number is a number that is half the sum of all of its positive divisors (including itself).\n"
   ]
  },
  {
   "cell_type": "code",
   "execution_count": 26,
   "id": "0449f213-0c1c-407f-a0ca-5a0915a4a1e4",
   "metadata": {},
   "outputs": [
    {
     "name": "stdin",
     "output_type": "stream",
     "text": [
      "mükemmel sayı kontrolü için sayı giriniz:  58\n"
     ]
    },
    {
     "name": "stdout",
     "output_type": "stream",
     "text": [
      "58 mükemmel sayı değil.\n"
     ]
    }
   ],
   "source": [
    "def perfect_num(x):\n",
    "    total = 0\n",
    "    for i in range(1, x):\n",
    "        if x % i == 0:\n",
    "            total = total + i       # sayının bölenlerini tutuyoruz\n",
    "\n",
    "    if x == total:\n",
    "        print(f\"{x} mükemmel sayı.\")\n",
    "    else:\n",
    "        print(f\"{x} mükemmel sayı değil.\")\n",
    "    \n",
    "number = int(input(\"mükemmel sayı kontrolü için sayı giriniz: \"))\n",
    "perfect_num(number)"
   ]
  },
  {
   "cell_type": "markdown",
   "id": "2926be34-3cbf-4016-8c41-027eff1c954a",
   "metadata": {},
   "source": [
    "### 12. Write a Python function that checks whether a passed string is a palindrome or not.\n",
    "Note: A palindrome is a word, phrase, or sequence that reads the same backward as forward, e.g., madam or nurses run."
   ]
  },
  {
   "cell_type": "code",
   "execution_count": 27,
   "id": "c3c19310-b9ab-4404-a5f9-67adab9ec5c1",
   "metadata": {},
   "outputs": [
    {
     "data": {
      "text/plain": [
       "True"
      ]
     },
     "execution_count": 27,
     "metadata": {},
     "output_type": "execute_result"
    }
   ],
   "source": [
    "# 1. yol\n",
    "def kelime(x):\n",
    "    y = x[::-1]                     # fonksiyon \n",
    "    if y == x:\n",
    "        return True\n",
    "    else:\n",
    "        return False\n",
    "    \n",
    "kelime(\"madam\")"
   ]
  },
  {
   "cell_type": "code",
   "execution_count": 28,
   "id": "20df3dfc-af71-47fb-b122-af18bf86f5aa",
   "metadata": {},
   "outputs": [
    {
     "data": {
      "text/plain": [
       "True"
      ]
     },
     "execution_count": 28,
     "metadata": {},
     "output_type": "execute_result"
    }
   ],
   "source": [
    "# 2. yol (Lambda)\n",
    "(lambda x: True if x == x[::-1] else False)(\"madam\")      "
   ]
  },
  {
   "cell_type": "code",
   "execution_count": 84,
   "id": "65bc5021-e550-4684-b17e-6a65b54ec9ef",
   "metadata": {
    "tags": []
   },
   "outputs": [
    {
     "name": "stdin",
     "output_type": "stream",
     "text": [
      " nazan\n"
     ]
    },
    {
     "data": {
      "text/plain": [
       "[True]"
      ]
     },
     "execution_count": 84,
     "metadata": {},
     "output_type": "execute_result"
    }
   ],
   "source": [
    "# 3. yol (list comprehension)\n",
    "list(True if x == x[::-1] else False for x in [input()]) \n",
    "\n",
    "# input().split() ya da [input()] yapmassam girdiğim eleman sayısı kadar if-else\n",
    "# çıktısını döndürür. Bu iki işlemle kelimeyi tek bir elemanmış gibi alıp for'u bir kez döndürmüş olduk          "
   ]
  },
  {
   "cell_type": "code",
   "execution_count": 30,
   "id": "af206f58-3262-4e9e-a53f-fb62e3750aa4",
   "metadata": {},
   "outputs": [
    {
     "name": "stdout",
     "output_type": "stream",
     "text": [
      "True\n"
     ]
    }
   ],
   "source": [
    "# 4. yol\n",
    "x = \"madam\"\n",
    "print(True) if x == x[::-1] else print(False)          "
   ]
  },
  {
   "cell_type": "code",
   "execution_count": null,
   "id": "5b4e1eab-20ac-4999-95cf-c6310685a28a",
   "metadata": {},
   "outputs": [],
   "source": []
  },
  {
   "cell_type": "markdown",
   "id": "e89548e4-869c-4a50-b888-2637600f0ffc",
   "metadata": {},
   "source": [
    "### 13. Write a Python function that prints out the first n rows of Pascal's triangle.\n",
    "Note : Pascal's triangle is an arithmetic and geometric figure first imagined by Blaise Pascal."
   ]
  },
  {
   "cell_type": "code",
   "execution_count": 124,
   "id": "3157d747-9445-4293-95df-cabcb900c1a3",
   "metadata": {},
   "outputs": [
    {
     "name": "stdin",
     "output_type": "stream",
     "text": [
      "Sayı giriniz  10\n"
     ]
    },
    {
     "name": "stdout",
     "output_type": "stream",
     "text": [
      "                1\n",
      "               1  1\n",
      "              1  2  1\n",
      "            1  3  3  1\n",
      "           1  4  6  4  1\n",
      "          1  5  10  10  5  1\n",
      "         1  6  15  20  15  6  1\n",
      "       1  7  21  35  35  21  7  1\n",
      "      1  8  28  56  70  56  28  8  1\n",
      "     1  9  36  84  126  126  84  36  9  1\n",
      "    1  10  45  120  210  252  210  120  45  10  1\n"
     ]
    }
   ],
   "source": [
    "# google üzerinden birden fazla yöntem buldum ancak anlayabildiğim tek bu kod parçası oldu ama onda da arzu ettiğim üçgen formu elde edemedim :)\n",
    "\n",
    "number = int(input(\"Sayı giriniz \"))\n",
    " \n",
    "for i in range(1, number+2):              \n",
    "    for j in range(0, number-i+2):     # bu aşama üçgenimizin kenar hattını(üçgen) belirlemek için \n",
    "        if j % 4 == 0:                 # çeşitli denemeler yaptım ama 9 ve sonrası girişlerde üçgen formu bozuluyor        \n",
    "            print(' ', end='')\n",
    "        print(' ', end='')     \n",
    "   \n",
    "    C = 1                       # ilk satır her zaman 1 ile başlar\n",
    "    for j in range(1, i+1):     # bu aşamada ki for satırdaki hesaplamaları sırayla döndürücek\n",
    "       \n",
    "        print('  ', C, sep='', end='')     # her seferinde satır 1 ile başlayacak devamı ise aşağıdaki hesaplama ile devam edecek\n",
    "                                          \n",
    "        C = C * (i - j) // j            # her seferinde bu sonuç bir sonraki C' yi belirlemiş oluyor     \n",
    "    print()                             # bu boş print ilk baştaki for döngümüzde alt satıra geçmemi sağlıyor  "
   ]
  },
  {
   "cell_type": "markdown",
   "id": "4d377e49-6675-4467-92fb-24769b0ed04e",
   "metadata": {
    "tags": []
   },
   "source": [
    "## 14. Write a Python function to check whether a string is a pangram or not.\n",
    "Note : Pangrams are words or sentences containing every letter of the alphabet at least once.\n",
    "For example : \"The quick brown fox jumps over the lazy dog\""
   ]
  },
  {
   "cell_type": "code",
   "execution_count": 128,
   "id": "637d4d7d-0a15-4db3-bef4-222bd453a703",
   "metadata": {},
   "outputs": [
    {
     "name": "stdout",
     "output_type": "stream",
     "text": [
      "Örneğimiz String pangram'dır\n"
     ]
    }
   ],
   "source": [
    "def pangram(string):\n",
    "    alphabet = \"abcdefghijklmnopqrstuvwxyz\"\n",
    "    for i in alphabet:\n",
    "        if i not in string.lower():  \n",
    "            return False         \n",
    "    return True   \n",
    "\n",
    "sample = \"The quick brown fox jumps over the lazy dog\"            \n",
    "if pangram(sample) == True:\n",
    "    print(\"Örneğimiz String pangram'dır\")\n",
    "else:\n",
    "    print(\"Örneğimiz String pangram değil\")           "
   ]
  },
  {
   "cell_type": "markdown",
   "id": "1de6f960-55c3-4846-a379-e49b8354e4f8",
   "metadata": {},
   "source": [
    "### 15. Write a Python program that accepts a hyphen-separated sequence of words as input and prints the words in a hyphen-separated sequence after sorting them alphabetically."
   ]
  },
  {
   "cell_type": "code",
   "execution_count": 34,
   "id": "e5b337f2-b156-450f-9001-5d31123755e9",
   "metadata": {},
   "outputs": [
    {
     "name": "stdin",
     "output_type": "stream",
     "text": [
      "Tire ile ayırarak kelime giriniz:  green-red-yellow-black-white\n"
     ]
    },
    {
     "name": "stdout",
     "output_type": "stream",
     "text": [
      "black-green-red-white-yellow\n"
     ]
    }
   ],
   "source": [
    "# 1. yol\n",
    "kelime = input(\"Tire ile ayırarak kelime giriniz: \").split(\"-\")          \n",
    "kelime.sort()\n",
    "\n",
    "print(\"-\".join(kelime))"
   ]
  },
  {
   "cell_type": "code",
   "execution_count": 35,
   "id": "1b9301b4-490f-48df-b089-e638815cd986",
   "metadata": {},
   "outputs": [
    {
     "name": "stdin",
     "output_type": "stream",
     "text": [
      "Tire ile ayırarak kelime giriniz:  green-red-yellow-black-white\n"
     ]
    },
    {
     "name": "stdout",
     "output_type": "stream",
     "text": [
      "black-green-red-white-yellow\n"
     ]
    }
   ],
   "source": [
    "# 2. yol\n",
    "kelime = sorted(list(input(\"Tire ile ayırarak kelime giriniz: \").split(\"-\")))                  \n",
    "                                                      \n",
    "print(\"-\".join(kelime))"
   ]
  },
  {
   "cell_type": "markdown",
   "id": "dd00408c-2d34-49f2-a8cb-389df2b95a8e",
   "metadata": {},
   "source": [
    "### 16. Write a Python function to create and print a list where the values are the squares of numbers between 1 and 30 (both included).\n"
   ]
  },
  {
   "cell_type": "code",
   "execution_count": 67,
   "id": "213dd29b-0900-421f-b492-b4e377196e6b",
   "metadata": {},
   "outputs": [
    {
     "name": "stdin",
     "output_type": "stream",
     "text": [
      "alt limiti giriniz:  1\n",
      "üst limiti giriniz:  31\n"
     ]
    },
    {
     "name": "stdout",
     "output_type": "stream",
     "text": [
      "[1, 4, 9, 16, 25, 36, 49, 64, 81, 100, 121, 144, 169, 196, 225, 256, 289, 324, 361, 400, 441, 484, 529, 576, 625, 676, 729, 784, 841, 900]\n"
     ]
    }
   ],
   "source": [
    "# 1. yol\n",
    "def kareleri(x,y):\n",
    "    kare_list = [i**2 for i in range(x,y)]     # list compre.\n",
    "    \n",
    "    print(kare_list)\n",
    "    \n",
    "alt = int(input(\"alt limiti giriniz: \"))         # kullanıcıdan aralık istedik            \n",
    "üst = int(input(\"üst limiti giriniz: \"))\n",
    "kareleri(alt,üst)"
   ]
  },
  {
   "cell_type": "code",
   "execution_count": 36,
   "id": "46ef0f80-7661-4889-82b5-16dceeede592",
   "metadata": {},
   "outputs": [
    {
     "name": "stdout",
     "output_type": "stream",
     "text": [
      "[1, 4, 9, 16, 25, 36, 49, 64, 81, 100, 121, 144, 169, 196, 225, 256, 289, 324, 361, 400, 441, 484, 529, 576, 625, 676, 729, 784, 841, 900]\n"
     ]
    }
   ],
   "source": [
    "# 2. yol\n",
    "def kareleri():\n",
    "    kare_list = [i**2 for i in range(1,31)]     # list compre. ile aralığı biz default girdik\n",
    "    \n",
    "    print(kare_list)\n",
    "\n",
    "kareleri()"
   ]
  },
  {
   "cell_type": "code",
   "execution_count": 37,
   "id": "a339ee87-af4d-4261-9458-d8bdabe8d1f2",
   "metadata": {},
   "outputs": [
    {
     "name": "stdout",
     "output_type": "stream",
     "text": [
      "{1: 1, 2: 4, 3: 9, 4: 16, 5: 25, 6: 36, 7: 49, 8: 64, 9: 81, 10: 100, 11: 121, 12: 144, 13: 169, 14: 196, 15: 225, 16: 256, 17: 289, 18: 324, 19: 361, 20: 400, 21: 441, 22: 484, 23: 529, 24: 576, 25: 625, 26: 676, 27: 729, 28: 784, 29: 841, 30: 900}\n"
     ]
    }
   ],
   "source": [
    "# 3. yol\n",
    "def kareleri():\n",
    "    kare_dict = {x: x * x for x in range(1,31)}        # dict compre.\n",
    "    \n",
    "    print(kare_dict)\n",
    "\n",
    "kareleri()"
   ]
  },
  {
   "cell_type": "markdown",
   "id": "ee591b9e-0448-4ad0-8cb8-9cb8f495ed12",
   "metadata": {},
   "source": [
    "### 17. Write a Python program to create a chain of function decorators (bold, italic, underline etc.)."
   ]
  },
  {
   "cell_type": "code",
   "execution_count": 1,
   "id": "5ab4fca1-160e-4a71-b82e-d6afec4aac4d",
   "metadata": {},
   "outputs": [
    {
     "name": "stdout",
     "output_type": "stream",
     "text": [
      "Fonksiyon çalışacak...\n",
      "Fonksiyon çalıştı.\n"
     ]
    }
   ],
   "source": [
    "# Çalışma mantığı: Dekoratörler parametre olarak fonksiyon alan, geriye fonksiyon döndüren fonksiyonlar olarak tanımlayabiliriz.\n",
    "# Böylelikle burda fonksiyonunda bir nesne olduğunu görmüş oluyoruz. Önünde @ karakteri konularak yazılır.\n",
    "\n",
    "def decorator(func):\n",
    "    def wrapper(*args, **kwargs):\n",
    "        print('Fonksiyon çalışacak...')\n",
    "        func()\n",
    "    return wrapper\n",
    "\n",
    "@decorator\n",
    "def func():\n",
    "    print('Fonksiyon çalıştı.')\n",
    "\n",
    "func()"
   ]
  },
  {
   "cell_type": "code",
   "execution_count": 3,
   "id": "8afa58dc-a9e8-4a22-a820-43dd52b65c48",
   "metadata": {},
   "outputs": [
    {
     "name": "stdout",
     "output_type": "stream",
     "text": [
      "İnce hamur(1), Orta hamur(2), Kalın hamur(3)\n",
      "Margarita(1),  Klasik(2),     Türk pizza(3)\n",
      "Acılı sos(1),  Acısız sos(2), Organik sos(3)\n",
      "^^^^^^^^^^^^^^^^^^^^^^^^^^^^^^^^^^^^^^^^^^^^^\n",
      "^^^^^^^^^^Sipariş Seçeneklerimiz^^^^^^^^^^^^ \n"
     ]
    }
   ],
   "source": [
    "# decorators örneğim \n",
    "\n",
    "def hamur_bilgisi(siparis):\n",
    "    def hamur():\n",
    "        print(\"İnce hamur(1), Orta hamur(2), Kalın hamur(3)\")\n",
    "        siparis()\n",
    "    return hamur\n",
    "    \n",
    "def pizza_bilgisi(siparis):\n",
    "    def pizza():\n",
    "        print(\"Margarita(1),  Klasik(2),     Türk pizza(3)\")\n",
    "        siparis()\n",
    "    return pizza\n",
    "\n",
    "def sos_bilgisi(siparis):\n",
    "    \n",
    "    def sos():\n",
    "        print(\"Acılı sos(1),  Acısız sos(2), Organik sos(3)\")\n",
    "        siparis()\n",
    "    return sos\n",
    "\n",
    "@hamur_bilgisi\n",
    "@pizza_bilgisi\n",
    "@sos_bilgisi\n",
    "def siparis():\n",
    "    print(\"^^^^^^^^^^^^^^^^^^^^^^^^^^^^^^^^^^^^^^^^^^^^^\")\n",
    "    print(\"^^^^^^^^^^Sipariş Seçeneklerimiz^^^^^^^^^^^^ \")\n",
    "\n",
    "siparis()        # dekoratör ile fonksiyon üzerinden diğer fonksiyonlarıma daha paratik bir şekilde ulaştım        "
   ]
  },
  {
   "cell_type": "code",
   "execution_count": 5,
   "id": "8cd8b99c-41d3-469d-9062-a6848e097d28",
   "metadata": {},
   "outputs": [
    {
     "name": "stdout",
     "output_type": "stream",
     "text": [
      "<b><i><u>hello world</u></i></b>\n"
     ]
    }
   ],
   "source": [
    "def make_bold(fn):\n",
    "    def wrapped():\n",
    "        return \"<b>\" + fn() + \"</b>\"\n",
    "    return wrapped\n",
    "\n",
    "def make_italic(fn):\n",
    "    def wrapped():\n",
    "        return \"<i>\" + fn() + \"</i>\"\n",
    "    return wrapped\n",
    "\n",
    "def make_underline(fn):\n",
    "    def wrapped():\n",
    "        return \"<u>\" + fn() + \"</u>\"\n",
    "    return wrapped\n",
    "@make_bold\n",
    "@make_italic\n",
    "@make_underline\n",
    "def hello():\n",
    "    return \"hello world\"\n",
    "print(hello()) ## returns \"<b><i><u>hello world</u></i></b>\""
   ]
  },
  {
   "cell_type": "markdown",
   "id": "151748c0-e45e-40b5-8692-33f029ef64ec",
   "metadata": {},
   "source": [
    "<b><i><u>hello world</u></i></b>"
   ]
  },
  {
   "cell_type": "markdown",
   "id": "7d8fae1b-2032-4e41-9138-1da51293381f",
   "metadata": {
    "tags": []
   },
   "source": [
    "### 18. Write a Python program to execute a string containing Python code."
   ]
  },
  {
   "cell_type": "code",
   "execution_count": 9,
   "id": "55ae9848-4ad3-4afe-83f2-d533fd926355",
   "metadata": {},
   "outputs": [
    {
     "name": "stdin",
     "output_type": "stream",
     "text": [
      "Bir aritmetik işlem yazın:  4 + (8*3)/5\n"
     ]
    }
   ],
   "source": [
    "# \"eval\" ve \"exec\" bir dize alır ve o dizeyi Python yorumlayıcısına aktarır ve çalıştırır.\n",
    "# eval fonksiyonu, bir Python ifadesini çalıştırır ve elde edilen sonucu geri verir.\n",
    "# eval ile sadece bir değer geri veren ifadeleri çalıştırabiliriz. Atama, if veya while gibi yapıları kullanamayız, fonksiyon tanımı yapamayız\n",
    "islem = input(\"Bir aritmetik işlem yazın: \")"
   ]
  },
  {
   "cell_type": "code",
   "execution_count": 34,
   "id": "5915b04b-91c8-44d1-8110-649992cca195",
   "metadata": {},
   "outputs": [
    {
     "data": {
      "text/plain": [
       "8.8"
      ]
     },
     "execution_count": 34,
     "metadata": {},
     "output_type": "execute_result"
    }
   ],
   "source": [
    "eval(islem)\n"
   ]
  },
  {
   "cell_type": "code",
   "execution_count": 17,
   "id": "f8e809ea-2f7a-499f-8712-ce3559639e6a",
   "metadata": {},
   "outputs": [
    {
     "data": {
      "text/plain": [
       "21"
      ]
     },
     "execution_count": 22,
     "metadata": {},
     "output_type": "execute_result"
    }
   ],
   "source": [
    "eval(\"sum([1,2,3,4,5,6])\")"
   ]
  },
  {
   "cell_type": "code",
   "execution_count": 29,
   "id": "ff2b4075-30fb-40c4-b151-ba23a467bcd9",
   "metadata": {},
   "outputs": [
    {
     "name": "stdout",
     "output_type": "stream",
     "text": [
      "TechPro Education\n"
     ]
    }
   ],
   "source": [
    "# Daha genel amaçlı bir Python kod parçası çalıştırmak için exec komutuna ihtiyacınız var.\n",
    "\n",
    "eval(\"print('TechPro Education')\")\n"
   ]
  },
  {
   "cell_type": "code",
   "execution_count": null,
   "id": "c837587c-8fe3-48c4-ad14-8dd0c1e660c1",
   "metadata": {},
   "outputs": [],
   "source": [
    "d = \"x=3.1415\""
   ]
  },
  {
   "cell_type": "code",
   "execution_count": 28,
   "id": "294ef1c4-25d1-4694-9a4e-98490914a5e9",
   "metadata": {},
   "outputs": [
    {
     "data": {
      "text/plain": [
       "3.1415"
      ]
     },
     "execution_count": 28,
     "metadata": {},
     "output_type": "execute_result"
    }
   ],
   "source": [
    "exec(\"x=3.1415\")\n",
    "x"
   ]
  },
  {
   "cell_type": "markdown",
   "id": "57f04994-1c6f-4b81-9951-829aeee3d5fd",
   "metadata": {},
   "source": [
    "### 19. Write a Python program to access a function inside a function."
   ]
  },
  {
   "cell_type": "code",
   "execution_count": 43,
   "id": "e0943f4a-900f-40be-b0a9-9bacf8d038e4",
   "metadata": {},
   "outputs": [
    {
     "name": "stdout",
     "output_type": "stream",
     "text": [
      "first() fonksiyonu çalıştı\n",
      "second() fonksiyonu çalıştı\n",
      "Sonuç: TechEducation\n"
     ]
    }
   ],
   "source": [
    "def first(x):\n",
    "    print(\"first() fonksiyonu çalıştı\")\n",
    "    y = 'Tech'\n",
    "    \n",
    "    def second(y):\n",
    "        print(\"second() fonksiyonu çalıştı\")\n",
    "        print(f\"Sonuç: {y+x}\")\n",
    "        \n",
    "    second('TechPro')\n",
    "    \n",
    "first(\"Education\")"
   ]
  },
  {
   "cell_type": "markdown",
   "id": "1db3cc93-e1ee-4ba4-aac7-bcfb1a4bead1",
   "metadata": {},
   "source": [
    "### 20. Write a Python program to detect the number of local variables declared in a function."
   ]
  },
  {
   "cell_type": "code",
   "execution_count": 47,
   "id": "dd3c3cde-c611-40df-bccb-bc63baaa1aa9",
   "metadata": {},
   "outputs": [
    {
     "name": "stdout",
     "output_type": "stream",
     "text": [
      "empty fonksiyonunda ki local değişkenler: 0\n",
      "full fonksiyonunda ki local değişkenler: 4\n"
     ]
    }
   ],
   "source": [
    "# 1. yol -->  .__code__.co_nlocals ile variables sayısını öğrenme\n",
    "def empty():\n",
    "    pass\n",
    "\n",
    "def full():\n",
    "    str = \"TechPro\"\n",
    "    a,b = 89, 98.9\n",
    "    system = True\n",
    "    \n",
    "print(\"empty fonksiyonunda ki local değişkenler:\",empty.__code__.co_nlocals)\n",
    "print(\"full fonksiyonunda ki local değişkenler:\",full.__code__.co_nlocals)"
   ]
  },
  {
   "cell_type": "code",
   "execution_count": 48,
   "id": "7fb4cf57-8633-4ef6-87c8-23d368e19402",
   "metadata": {},
   "outputs": [
    {
     "name": "stdout",
     "output_type": "stream",
     "text": [
      "3\n"
     ]
    }
   ],
   "source": [
    "# 2. yol--> çalışıyor ama tek satırda yan yana birden fazla değişken atarsam o satırı 1 olarak alıyor, eksik çıktı veriyor\n",
    "\n",
    "def full():\n",
    "    toplam = 0\n",
    "    str = \"TechPro\"\n",
    "    toplam +=1          # tüm değişkenler arasına sayaç koydum\n",
    "    a,b = 89, 98.9      # ama bu satırda işe yaramadı iki değişken olmasına rağmen tek aldı \n",
    "    toplam +=1\n",
    "    system = True\n",
    "    toplam +=1\n",
    "    print(toplam)\n",
    "    \n",
    "full()      # sonuç 4 yerine 3 çıktı"
   ]
  },
  {
   "cell_type": "markdown",
   "id": "24b17749-6201-44cd-8201-87603fa7d258",
   "metadata": {},
   "source": [
    "### 21. Write a Python program that invokes a function after a specified period of time.\n",
    "Sample Output:\n",
    "Square root after specific miliseconds:\n",
    "4.0"
   ]
  },
  {
   "cell_type": "code",
   "execution_count": 53,
   "id": "a0230e1d-72b7-42d6-88ba-3ca6e9067cae",
   "metadata": {},
   "outputs": [
    {
     "name": "stdin",
     "output_type": "stream",
     "text": [
      "İşleminizi ne kadar geciktirmek istersiniz:  5\n"
     ]
    },
    {
     "name": "stdout",
     "output_type": "stream",
     "text": [
      "İşlem 5 sn. sonra gerçekleşicek\n",
      "Square root after specific miliseconds: 5\n"
     ]
    }
   ],
   "source": [
    "import time\n",
    "\n",
    "delay = int(input(\"İşleminizi ne kadar geciktirmek istersiniz: \"))\n",
    "\n",
    "print(f\"İşlem {delay} sn. sonra gerçekleşicek\")\n",
    "time.sleep(delay)\n",
    "print(f\"Square root after specific miliseconds: {delay}\")"
   ]
  },
  {
   "cell_type": "code",
   "execution_count": null,
   "id": "39b36f6b-5838-4319-9b67-0b668fb48417",
   "metadata": {},
   "outputs": [],
   "source": []
  }
 ],
 "metadata": {
  "kernelspec": {
   "display_name": "Python 3 (ipykernel)",
   "language": "python",
   "name": "python3"
  },
  "language_info": {
   "codemirror_mode": {
    "name": "ipython",
    "version": 3
   },
   "file_extension": ".py",
   "mimetype": "text/x-python",
   "name": "python",
   "nbconvert_exporter": "python",
   "pygments_lexer": "ipython3",
   "version": "3.9.13"
  }
 },
 "nbformat": 4,
 "nbformat_minor": 5
}
